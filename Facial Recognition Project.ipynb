{
 "cells": [
  {
   "cell_type": "code",
   "execution_count": 1,
   "id": "1421f39e-3bd5-4c9c-93c2-30b83d431dd1",
   "metadata": {
    "tags": []
   },
   "outputs": [
    {
     "name": "stdout",
     "output_type": "stream",
     "text": [
      "pip 23.1.2 from C:\\Users\\GAURAV BANSAL\\AppData\\Local\\Programs\\Python\\Python311\\Lib\\site-packages\\pip (python 3.11)\n",
      "\n",
      "Note: you may need to restart the kernel to use updated packages.\n"
     ]
    }
   ],
   "source": [
    "pip --version"
   ]
  },
  {
   "cell_type": "code",
   "execution_count": 2,
   "id": "34979e7a-1ee5-4d80-9ffd-ae38bbbb3422",
   "metadata": {
    "tags": []
   },
   "outputs": [
    {
     "name": "stdout",
     "output_type": "stream",
     "text": [
      "Collecting pip==21.3.1\n",
      "  Downloading pip-21.3.1-py3-none-any.whl (1.7 MB)\n",
      "                                              0.0/1.7 MB ? eta -:--:--\n",
      "                                              0.0/1.7 MB 1.4 MB/s eta 0:00:02\n",
      "     -                                        0.1/1.7 MB 656.4 kB/s eta 0:00:03\n",
      "     --                                       0.1/1.7 MB 939.4 kB/s eta 0:00:02\n",
      "     ---                                      0.1/1.7 MB 950.9 kB/s eta 0:00:02\n",
      "     -----                                    0.2/1.7 MB 1.2 MB/s eta 0:00:02\n",
      "     ------                                   0.3/1.7 MB 1.1 MB/s eta 0:00:02\n",
      "     -------                                  0.3/1.7 MB 1.2 MB/s eta 0:00:02\n",
      "     ---------                                0.4/1.7 MB 1.3 MB/s eta 0:00:01\n",
      "     ------------                             0.5/1.7 MB 1.4 MB/s eta 0:00:01\n",
      "     ---------------                          0.7/1.7 MB 1.6 MB/s eta 0:00:01\n",
      "     -------------------                      0.8/1.7 MB 1.8 MB/s eta 0:00:01\n",
      "     -----------------------                  1.0/1.7 MB 2.0 MB/s eta 0:00:01\n",
      "     ---------------------------              1.2/1.7 MB 2.1 MB/s eta 0:00:01\n",
      "     ------------------------------           1.3/1.7 MB 2.2 MB/s eta 0:00:01\n",
      "     -----------------------------------      1.5/1.7 MB 2.4 MB/s eta 0:00:01\n",
      "     ------------------------------------     1.6/1.7 MB 2.4 MB/s eta 0:00:01\n",
      "     ------------------------------------     1.6/1.7 MB 2.4 MB/s eta 0:00:01\n",
      "     --------------------------------------   1.6/1.7 MB 2.1 MB/s eta 0:00:01\n",
      "     ---------------------------------------  1.7/1.7 MB 2.1 MB/s eta 0:00:01\n",
      "     ---------------------------------------- 1.7/1.7 MB 2.0 MB/s eta 0:00:00\n",
      "Installing collected packages: pip\n",
      "  Attempting uninstall: pip\n",
      "    Found existing installation: pip 23.1.2\n",
      "    Uninstalling pip-23.1.2:\n",
      "      Successfully uninstalled pip-23.1.2\n",
      "Successfully installed pip-21.3.1\n",
      "Note: you may need to restart the kernel to use updated packages.\n"
     ]
    },
    {
     "name": "stderr",
     "output_type": "stream",
     "text": [
      "\n",
      "[notice] A new release of pip is available: 21.3.1 -> 23.3.1\n",
      "[notice] To update, run: C:\\Users\\GAURAV BANSAL\\AppData\\Local\\Programs\\Python\\Python311\\python.exe -m pip install --upgrade pip\n"
     ]
    }
   ],
   "source": [
    "pip install pip==21.3.1"
   ]
  },
  {
   "cell_type": "code",
   "execution_count": 3,
   "id": "701d30d0-1aeb-4e75-8655-368b533dd7ae",
   "metadata": {
    "tags": []
   },
   "outputs": [
    {
     "name": "stderr",
     "output_type": "stream",
     "text": [
      "ERROR: Could not find a version that satisfies the requirement tensorflow (from versions: none)\n",
      "ERROR: No matching distribution found for tensorflow\n"
     ]
    }
   ],
   "source": [
    "!pip install tensorflow tensorflow-gpu opencv-python matplotlib"
   ]
  },
  {
   "cell_type": "code",
   "execution_count": 4,
   "id": "17bda908-cbb5-4021-b121-08e330dbec85",
   "metadata": {
    "tags": []
   },
   "outputs": [
    {
     "name": "stderr",
     "output_type": "stream",
     "text": [
      "ERROR: Could not find a version that satisfies the requirement tensorflow==2.4.1 (from versions: none)\n",
      "ERROR: No matching distribution found for tensorflow==2.4.1\n"
     ]
    }
   ],
   "source": [
    "!pip install tensorflow==2.4.1"
   ]
  },
  {
   "cell_type": "code",
   "execution_count": 1,
   "id": "94de25ae-c599-41f3-b7be-c8916097d442",
   "metadata": {
    "tags": []
   },
   "outputs": [
    {
     "name": "stderr",
     "output_type": "stream",
     "text": [
      "ERROR: Could not find a version that satisfies the requirement tensorflow (from versions: none)\n",
      "ERROR: No matching distribution found for tensorflow\n"
     ]
    }
   ],
   "source": [
    "!pip install tensorflow"
   ]
  },
  {
   "cell_type": "code",
   "execution_count": 2,
   "id": "71755dd9-ba72-4e7c-bd83-15b7bca76d13",
   "metadata": {
    "tags": []
   },
   "outputs": [
    {
     "name": "stdout",
     "output_type": "stream",
     "text": [
      "Collecting tensorflow==2.13.*\n",
      "  Using cached tensorflow-2.13.1-cp311-cp311-win_amd64.whl (1.9 kB)\n",
      "Collecting tensorflow-intel==2.13.1\n",
      "  Downloading tensorflow_intel-2.13.1-cp311-cp311-win_amd64.whl (276.6 MB)\n",
      "Requirement already satisfied: termcolor>=1.1.0 in c:\\users\\gaurav bansal\\appdata\\local\\programs\\python\\python311\\lib\\site-packages (from tensorflow-intel==2.13.1->tensorflow==2.13.*) (2.3.0)\n",
      "Collecting typing-extensions<4.6.0,>=3.6.6\n",
      "  Downloading typing_extensions-4.5.0-py3-none-any.whl (27 kB)\n",
      "Requirement already satisfied: opt-einsum>=2.3.2 in c:\\users\\gaurav bansal\\appdata\\local\\programs\\python\\python311\\lib\\site-packages (from tensorflow-intel==2.13.1->tensorflow==2.13.*) (3.3.0)\n",
      "Collecting tensorboard<2.14,>=2.13\n",
      "  Downloading tensorboard-2.13.0-py3-none-any.whl (5.6 MB)\n",
      "Requirement already satisfied: grpcio<2.0,>=1.24.3 in c:\\users\\gaurav bansal\\appdata\\local\\programs\\python\\python311\\lib\\site-packages (from tensorflow-intel==2.13.1->tensorflow==2.13.*) (1.59.3)\n",
      "Requirement already satisfied: tensorflow-io-gcs-filesystem>=0.23.1 in c:\\users\\gaurav bansal\\appdata\\local\\programs\\python\\python311\\lib\\site-packages (from tensorflow-intel==2.13.1->tensorflow==2.13.*) (0.31.0)\n",
      "Requirement already satisfied: numpy<=1.24.3,>=1.22 in c:\\users\\gaurav bansal\\appdata\\local\\programs\\python\\python311\\lib\\site-packages (from tensorflow-intel==2.13.1->tensorflow==2.13.*) (1.23.5)\n",
      "Requirement already satisfied: packaging in c:\\users\\gaurav bansal\\appdata\\local\\programs\\python\\python311\\lib\\site-packages (from tensorflow-intel==2.13.1->tensorflow==2.13.*) (22.0)\n",
      "Requirement already satisfied: protobuf!=4.21.0,!=4.21.1,!=4.21.2,!=4.21.3,!=4.21.4,!=4.21.5,<5.0.0dev,>=3.20.3 in c:\\users\\gaurav bansal\\appdata\\local\\programs\\python\\python311\\lib\\site-packages (from tensorflow-intel==2.13.1->tensorflow==2.13.*) (4.23.4)\n",
      "Requirement already satisfied: astunparse>=1.6.0 in c:\\users\\gaurav bansal\\appdata\\local\\programs\\python\\python311\\lib\\site-packages (from tensorflow-intel==2.13.1->tensorflow==2.13.*) (1.6.3)\n",
      "Requirement already satisfied: six>=1.12.0 in c:\\users\\gaurav bansal\\appdata\\local\\programs\\python\\python311\\lib\\site-packages (from tensorflow-intel==2.13.1->tensorflow==2.13.*) (1.16.0)\n",
      "Requirement already satisfied: libclang>=13.0.0 in c:\\users\\gaurav bansal\\appdata\\local\\programs\\python\\python311\\lib\\site-packages (from tensorflow-intel==2.13.1->tensorflow==2.13.*) (16.0.6)\n",
      "Requirement already satisfied: absl-py>=1.0.0 in c:\\users\\gaurav bansal\\appdata\\local\\programs\\python\\python311\\lib\\site-packages (from tensorflow-intel==2.13.1->tensorflow==2.13.*) (2.0.0)\n",
      "Requirement already satisfied: h5py>=2.9.0 in c:\\users\\gaurav bansal\\appdata\\local\\programs\\python\\python311\\lib\\site-packages (from tensorflow-intel==2.13.1->tensorflow==2.13.*) (3.10.0)\n",
      "Requirement already satisfied: wrapt>=1.11.0 in c:\\users\\gaurav bansal\\appdata\\local\\programs\\python\\python311\\lib\\site-packages (from tensorflow-intel==2.13.1->tensorflow==2.13.*) (1.14.1)\n",
      "Requirement already satisfied: setuptools in c:\\users\\gaurav bansal\\appdata\\local\\programs\\python\\python311\\lib\\site-packages (from tensorflow-intel==2.13.1->tensorflow==2.13.*) (65.5.0)\n",
      "Collecting tensorflow-estimator<2.14,>=2.13.0\n",
      "  Downloading tensorflow_estimator-2.13.0-py2.py3-none-any.whl (440 kB)\n",
      "Requirement already satisfied: google-pasta>=0.1.1 in c:\\users\\gaurav bansal\\appdata\\local\\programs\\python\\python311\\lib\\site-packages (from tensorflow-intel==2.13.1->tensorflow==2.13.*) (0.2.0)\n",
      "Collecting keras<2.14,>=2.13.1\n",
      "  Downloading keras-2.13.1-py3-none-any.whl (1.7 MB)\n",
      "Requirement already satisfied: flatbuffers>=23.1.21 in c:\\users\\gaurav bansal\\appdata\\local\\programs\\python\\python311\\lib\\site-packages (from tensorflow-intel==2.13.1->tensorflow==2.13.*) (23.5.26)\n",
      "Collecting gast<=0.4.0,>=0.2.1\n",
      "  Downloading gast-0.4.0-py3-none-any.whl (9.8 kB)\n",
      "Requirement already satisfied: wheel<1.0,>=0.23.0 in c:\\users\\gaurav bansal\\appdata\\local\\programs\\python\\python311\\lib\\site-packages (from astunparse>=1.6.0->tensorflow-intel==2.13.1->tensorflow==2.13.*) (0.41.3)\n",
      "Requirement already satisfied: google-auth<3,>=1.6.3 in c:\\users\\gaurav bansal\\appdata\\local\\programs\\python\\python311\\lib\\site-packages (from tensorboard<2.14,>=2.13->tensorflow-intel==2.13.1->tensorflow==2.13.*) (2.23.4)\n",
      "Requirement already satisfied: requests<3,>=2.21.0 in c:\\users\\gaurav bansal\\appdata\\local\\programs\\python\\python311\\lib\\site-packages (from tensorboard<2.14,>=2.13->tensorflow-intel==2.13.1->tensorflow==2.13.*) (2.28.1)\n",
      "Requirement already satisfied: tensorboard-data-server<0.8.0,>=0.7.0 in c:\\users\\gaurav bansal\\appdata\\local\\programs\\python\\python311\\lib\\site-packages (from tensorboard<2.14,>=2.13->tensorflow-intel==2.13.1->tensorflow==2.13.*) (0.7.2)\n",
      "Collecting google-auth-oauthlib<1.1,>=0.5\n",
      "  Downloading google_auth_oauthlib-1.0.0-py2.py3-none-any.whl (18 kB)\n",
      "Requirement already satisfied: werkzeug>=1.0.1 in c:\\users\\gaurav bansal\\appdata\\local\\programs\\python\\python311\\lib\\site-packages (from tensorboard<2.14,>=2.13->tensorflow-intel==2.13.1->tensorflow==2.13.*) (3.0.1)\n",
      "Requirement already satisfied: markdown>=2.6.8 in c:\\users\\gaurav bansal\\appdata\\local\\programs\\python\\python311\\lib\\site-packages (from tensorboard<2.14,>=2.13->tensorflow-intel==2.13.1->tensorflow==2.13.*) (3.5.1)\n",
      "Requirement already satisfied: pyasn1-modules>=0.2.1 in c:\\users\\gaurav bansal\\appdata\\local\\programs\\python\\python311\\lib\\site-packages (from google-auth<3,>=1.6.3->tensorboard<2.14,>=2.13->tensorflow-intel==2.13.1->tensorflow==2.13.*) (0.3.0)\n",
      "Requirement already satisfied: cachetools<6.0,>=2.0.0 in c:\\users\\gaurav bansal\\appdata\\local\\programs\\python\\python311\\lib\\site-packages (from google-auth<3,>=1.6.3->tensorboard<2.14,>=2.13->tensorflow-intel==2.13.1->tensorflow==2.13.*) (5.3.2)\n",
      "Requirement already satisfied: rsa<5,>=3.1.4 in c:\\users\\gaurav bansal\\appdata\\local\\programs\\python\\python311\\lib\\site-packages (from google-auth<3,>=1.6.3->tensorboard<2.14,>=2.13->tensorflow-intel==2.13.1->tensorflow==2.13.*) (4.9)\n",
      "Requirement already satisfied: requests-oauthlib>=0.7.0 in c:\\users\\gaurav bansal\\appdata\\local\\programs\\python\\python311\\lib\\site-packages (from google-auth-oauthlib<1.1,>=0.5->tensorboard<2.14,>=2.13->tensorflow-intel==2.13.1->tensorflow==2.13.*) (1.3.1)\n",
      "Requirement already satisfied: charset-normalizer<3,>=2 in c:\\users\\gaurav bansal\\appdata\\local\\programs\\python\\python311\\lib\\site-packages (from requests<3,>=2.21.0->tensorboard<2.14,>=2.13->tensorflow-intel==2.13.1->tensorflow==2.13.*) (2.1.1)\n",
      "Requirement already satisfied: idna<4,>=2.5 in c:\\users\\gaurav bansal\\appdata\\local\\programs\\python\\python311\\lib\\site-packages (from requests<3,>=2.21.0->tensorboard<2.14,>=2.13->tensorflow-intel==2.13.1->tensorflow==2.13.*) (3.4)\n",
      "Requirement already satisfied: urllib3<1.27,>=1.21.1 in c:\\users\\gaurav bansal\\appdata\\local\\programs\\python\\python311\\lib\\site-packages (from requests<3,>=2.21.0->tensorboard<2.14,>=2.13->tensorflow-intel==2.13.1->tensorflow==2.13.*) (1.26.13)\n",
      "Requirement already satisfied: certifi>=2017.4.17 in c:\\users\\gaurav bansal\\appdata\\local\\programs\\python\\python311\\lib\\site-packages (from requests<3,>=2.21.0->tensorboard<2.14,>=2.13->tensorflow-intel==2.13.1->tensorflow==2.13.*) (2022.12.7)\n",
      "Requirement already satisfied: MarkupSafe>=2.1.1 in c:\\users\\gaurav bansal\\appdata\\local\\programs\\python\\python311\\lib\\site-packages (from werkzeug>=1.0.1->tensorboard<2.14,>=2.13->tensorflow-intel==2.13.1->tensorflow==2.13.*) (2.1.2)\n",
      "Requirement already satisfied: pyasn1<0.6.0,>=0.4.6 in c:\\users\\gaurav bansal\\appdata\\local\\programs\\python\\python311\\lib\\site-packages (from pyasn1-modules>=0.2.1->google-auth<3,>=1.6.3->tensorboard<2.14,>=2.13->tensorflow-intel==2.13.1->tensorflow==2.13.*) (0.5.1)\n",
      "Requirement already satisfied: oauthlib>=3.0.0 in c:\\users\\gaurav bansal\\appdata\\local\\programs\\python\\python311\\lib\\site-packages (from requests-oauthlib>=0.7.0->google-auth-oauthlib<1.1,>=0.5->tensorboard<2.14,>=2.13->tensorflow-intel==2.13.1->tensorflow==2.13.*) (3.2.2)\n",
      "Installing collected packages: google-auth-oauthlib, typing-extensions, tensorflow-estimator, tensorboard, keras, gast, tensorflow-intel, tensorflow\n",
      "  Attempting uninstall: google-auth-oauthlib\n",
      "    Found existing installation: google-auth-oauthlib 1.1.0\n",
      "    Uninstalling google-auth-oauthlib-1.1.0:\n",
      "      Successfully uninstalled google-auth-oauthlib-1.1.0\n",
      "  Attempting uninstall: typing-extensions\n",
      "    Found existing installation: typing-extensions 4.8.0\n",
      "    Uninstalling typing-extensions-4.8.0:\n",
      "      Successfully uninstalled typing-extensions-4.8.0\n",
      "  Attempting uninstall: tensorflow-estimator\n",
      "    Found existing installation: tensorflow-estimator 2.15.0\n",
      "    Uninstalling tensorflow-estimator-2.15.0:\n",
      "      Successfully uninstalled tensorflow-estimator-2.15.0\n",
      "  Attempting uninstall: tensorboard\n",
      "    Found existing installation: tensorboard 2.15.1\n",
      "    Uninstalling tensorboard-2.15.1:\n",
      "      Successfully uninstalled tensorboard-2.15.1\n",
      "  Attempting uninstall: keras\n",
      "    Found existing installation: keras 2.15.0\n",
      "    Uninstalling keras-2.15.0:\n",
      "      Successfully uninstalled keras-2.15.0\n",
      "  Attempting uninstall: gast\n",
      "    Found existing installation: gast 0.5.4\n",
      "    Uninstalling gast-0.5.4:\n",
      "      Successfully uninstalled gast-0.5.4\n",
      "  Attempting uninstall: tensorflow-intel\n",
      "    Found existing installation: tensorflow-intel 2.15.0\n",
      "    Uninstalling tensorflow-intel-2.15.0:\n",
      "      Successfully uninstalled tensorflow-intel-2.15.0\n",
      "  Attempting uninstall: tensorflow\n",
      "    Found existing installation: tensorflow 2.15.0\n",
      "    Uninstalling tensorflow-2.15.0:\n",
      "      Successfully uninstalled tensorflow-2.15.0\n",
      "Successfully installed gast-0.4.0 google-auth-oauthlib-1.0.0 keras-2.13.1 tensorboard-2.13.0 tensorflow-2.13.1 tensorflow-estimator-2.13.0 tensorflow-intel-2.13.1 typing-extensions-4.5.0\n",
      "Note: you may need to restart the kernel to use updated packages.\n"
     ]
    },
    {
     "name": "stderr",
     "output_type": "stream",
     "text": [
      "WARNING: You are using pip version 21.3.1; however, version 23.3.1 is available.\n",
      "You should consider upgrading via the 'C:\\Users\\GAURAV BANSAL\\AppData\\Local\\Programs\\Python\\Python311\\python.exe -m pip install --upgrade pip' command.\n"
     ]
    }
   ],
   "source": [
    "pip install tensorflow==2.13.*"
   ]
  },
  {
   "cell_type": "code",
   "execution_count": 3,
   "id": "cf2625ac-3513-46f4-9326-9762a766f9de",
   "metadata": {
    "tags": []
   },
   "outputs": [
    {
     "name": "stdout",
     "output_type": "stream",
     "text": [
      "Requirement already satisfied: opencv-python in c:\\users\\gaurav bansal\\appdata\\local\\programs\\python\\python312\\lib\\site-packages (4.6.0.66)\n",
      "Requirement already satisfied: matplotlib in c:\\users\\gaurav bansal\\appdata\\local\\programs\\python\\python312\\lib\\site-packages (3.8.2)\n",
      "Requirement already satisfied: numpy>=1.21.2 in c:\\users\\gaurav bansal\\appdata\\local\\programs\\python\\python312\\lib\\site-packages (from opencv-python) (1.26.2)\n",
      "Requirement already satisfied: contourpy>=1.0.1 in c:\\users\\gaurav bansal\\appdata\\local\\programs\\python\\python312\\lib\\site-packages (from matplotlib) (1.2.0)\n",
      "Requirement already satisfied: cycler>=0.10 in c:\\users\\gaurav bansal\\appdata\\local\\programs\\python\\python312\\lib\\site-packages (from matplotlib) (0.12.1)\n",
      "Requirement already satisfied: fonttools>=4.22.0 in c:\\users\\gaurav bansal\\appdata\\local\\programs\\python\\python312\\lib\\site-packages (from matplotlib) (4.45.1)\n",
      "Requirement already satisfied: kiwisolver>=1.3.1 in c:\\users\\gaurav bansal\\appdata\\local\\programs\\python\\python312\\lib\\site-packages (from matplotlib) (1.4.5)\n",
      "Requirement already satisfied: packaging>=20.0 in c:\\users\\gaurav bansal\\appdata\\local\\programs\\python\\python312\\lib\\site-packages (from matplotlib) (23.2)\n",
      "Requirement already satisfied: pillow>=8 in c:\\users\\gaurav bansal\\appdata\\local\\programs\\python\\python312\\lib\\site-packages (from matplotlib) (10.1.0)\n",
      "Requirement already satisfied: pyparsing>=2.3.1 in c:\\users\\gaurav bansal\\appdata\\local\\programs\\python\\python312\\lib\\site-packages (from matplotlib) (3.1.1)\n",
      "Requirement already satisfied: python-dateutil>=2.7 in c:\\users\\gaurav bansal\\appdata\\local\\programs\\python\\python312\\lib\\site-packages (from matplotlib) (2.8.2)\n",
      "Requirement already satisfied: six>=1.5 in c:\\users\\gaurav bansal\\appdata\\local\\programs\\python\\python312\\lib\\site-packages (from python-dateutil>=2.7->matplotlib) (1.16.0)\n"
     ]
    }
   ],
   "source": [
    "!pip install opencv-python matplotlib"
   ]
  },
  {
   "cell_type": "code",
   "execution_count": 4,
   "id": "9d1097f5-9df2-499e-bbcb-c6ede4e004c8",
   "metadata": {
    "tags": []
   },
   "outputs": [],
   "source": [
    "import cv2"
   ]
  },
  {
   "cell_type": "code",
   "execution_count": 5,
   "id": "933c3c38-8f48-4605-9edb-582bcc9c8ce3",
   "metadata": {
    "tags": []
   },
   "outputs": [],
   "source": [
    "import os\n",
    "import random\n",
    "import numpy as np\n",
    "from matplotlib import pyplot as plt\n",
    "import tensorflow as tf"
   ]
  },
  {
   "cell_type": "code",
   "execution_count": 6,
   "id": "08d12ec9-c7b0-4d9e-838b-5d22dd0c49bd",
   "metadata": {
    "tags": []
   },
   "outputs": [],
   "source": [
    "import numpy as np"
   ]
  },
  {
   "cell_type": "code",
   "execution_count": 7,
   "id": "9abdd34d-db45-4e38-9b80-02fe9a2a6278",
   "metadata": {
    "tags": []
   },
   "outputs": [],
   "source": [
    "from matplotlib import pyplot as plt"
   ]
  },
  {
   "cell_type": "code",
   "execution_count": 8,
   "id": "377d9647-2276-4803-a8da-a01c8c68409b",
   "metadata": {
    "tags": []
   },
   "outputs": [
    {
     "name": "stdout",
     "output_type": "stream",
     "text": [
      "Requirement already satisfied: tensorflow in c:\\users\\gaurav bansal\\appdata\\local\\programs\\python\\python311\\lib\\site-packages (2.13.1)Note: you may need to restart the kernel to use updated packages.\n"
     ]
    },
    {
     "name": "stderr",
     "output_type": "stream",
     "text": [
      "WARNING: You are using pip version 21.3.1; however, version 23.3.1 is available.\n",
      "You should consider upgrading via the 'C:\\Users\\GAURAV BANSAL\\AppData\\Local\\Programs\\Python\\Python311\\python.exe -m pip install --upgrade pip' command.\n"
     ]
    },
    {
     "name": "stdout",
     "output_type": "stream",
     "text": [
      "\n",
      "Requirement already satisfied: tensorflow-intel==2.13.1 in c:\\users\\gaurav bansal\\appdata\\local\\programs\\python\\python311\\lib\\site-packages (from tensorflow) (2.13.1)\n",
      "Requirement already satisfied: absl-py>=1.0.0 in c:\\users\\gaurav bansal\\appdata\\local\\programs\\python\\python311\\lib\\site-packages (from tensorflow-intel==2.13.1->tensorflow) (2.0.0)\n",
      "Requirement already satisfied: h5py>=2.9.0 in c:\\users\\gaurav bansal\\appdata\\local\\programs\\python\\python311\\lib\\site-packages (from tensorflow-intel==2.13.1->tensorflow) (3.10.0)\n",
      "Requirement already satisfied: termcolor>=1.1.0 in c:\\users\\gaurav bansal\\appdata\\local\\programs\\python\\python311\\lib\\site-packages (from tensorflow-intel==2.13.1->tensorflow) (2.3.0)\n",
      "Requirement already satisfied: gast<=0.4.0,>=0.2.1 in c:\\users\\gaurav bansal\\appdata\\local\\programs\\python\\python311\\lib\\site-packages (from tensorflow-intel==2.13.1->tensorflow) (0.4.0)\n",
      "Requirement already satisfied: tensorflow-io-gcs-filesystem>=0.23.1 in c:\\users\\gaurav bansal\\appdata\\local\\programs\\python\\python311\\lib\\site-packages (from tensorflow-intel==2.13.1->tensorflow) (0.31.0)\n",
      "Requirement already satisfied: opt-einsum>=2.3.2 in c:\\users\\gaurav bansal\\appdata\\local\\programs\\python\\python311\\lib\\site-packages (from tensorflow-intel==2.13.1->tensorflow) (3.3.0)\n",
      "Requirement already satisfied: keras<2.14,>=2.13.1 in c:\\users\\gaurav bansal\\appdata\\local\\programs\\python\\python311\\lib\\site-packages (from tensorflow-intel==2.13.1->tensorflow) (2.13.1)\n",
      "Requirement already satisfied: six>=1.12.0 in c:\\users\\gaurav bansal\\appdata\\local\\programs\\python\\python311\\lib\\site-packages (from tensorflow-intel==2.13.1->tensorflow) (1.16.0)\n",
      "Requirement already satisfied: tensorboard<2.14,>=2.13 in c:\\users\\gaurav bansal\\appdata\\local\\programs\\python\\python311\\lib\\site-packages (from tensorflow-intel==2.13.1->tensorflow) (2.13.0)\n",
      "Requirement already satisfied: google-pasta>=0.1.1 in c:\\users\\gaurav bansal\\appdata\\local\\programs\\python\\python311\\lib\\site-packages (from tensorflow-intel==2.13.1->tensorflow) (0.2.0)\n",
      "Requirement already satisfied: setuptools in c:\\users\\gaurav bansal\\appdata\\local\\programs\\python\\python311\\lib\\site-packages (from tensorflow-intel==2.13.1->tensorflow) (65.5.0)\n",
      "Requirement already satisfied: wrapt>=1.11.0 in c:\\users\\gaurav bansal\\appdata\\local\\programs\\python\\python311\\lib\\site-packages (from tensorflow-intel==2.13.1->tensorflow) (1.14.1)\n",
      "Requirement already satisfied: flatbuffers>=23.1.21 in c:\\users\\gaurav bansal\\appdata\\local\\programs\\python\\python311\\lib\\site-packages (from tensorflow-intel==2.13.1->tensorflow) (23.5.26)\n",
      "Requirement already satisfied: tensorflow-estimator<2.14,>=2.13.0 in c:\\users\\gaurav bansal\\appdata\\local\\programs\\python\\python311\\lib\\site-packages (from tensorflow-intel==2.13.1->tensorflow) (2.13.0)\n",
      "Requirement already satisfied: grpcio<2.0,>=1.24.3 in c:\\users\\gaurav bansal\\appdata\\local\\programs\\python\\python311\\lib\\site-packages (from tensorflow-intel==2.13.1->tensorflow) (1.59.3)\n",
      "Requirement already satisfied: numpy<=1.24.3,>=1.22 in c:\\users\\gaurav bansal\\appdata\\local\\programs\\python\\python311\\lib\\site-packages (from tensorflow-intel==2.13.1->tensorflow) (1.23.5)\n",
      "Requirement already satisfied: packaging in c:\\users\\gaurav bansal\\appdata\\local\\programs\\python\\python311\\lib\\site-packages (from tensorflow-intel==2.13.1->tensorflow) (22.0)\n",
      "Requirement already satisfied: protobuf!=4.21.0,!=4.21.1,!=4.21.2,!=4.21.3,!=4.21.4,!=4.21.5,<5.0.0dev,>=3.20.3 in c:\\users\\gaurav bansal\\appdata\\local\\programs\\python\\python311\\lib\\site-packages (from tensorflow-intel==2.13.1->tensorflow) (4.23.4)\n",
      "Requirement already satisfied: libclang>=13.0.0 in c:\\users\\gaurav bansal\\appdata\\local\\programs\\python\\python311\\lib\\site-packages (from tensorflow-intel==2.13.1->tensorflow) (16.0.6)\n",
      "Requirement already satisfied: astunparse>=1.6.0 in c:\\users\\gaurav bansal\\appdata\\local\\programs\\python\\python311\\lib\\site-packages (from tensorflow-intel==2.13.1->tensorflow) (1.6.3)\n",
      "Requirement already satisfied: typing-extensions<4.6.0,>=3.6.6 in c:\\users\\gaurav bansal\\appdata\\local\\programs\\python\\python311\\lib\\site-packages (from tensorflow-intel==2.13.1->tensorflow) (4.5.0)\n",
      "Requirement already satisfied: wheel<1.0,>=0.23.0 in c:\\users\\gaurav bansal\\appdata\\local\\programs\\python\\python311\\lib\\site-packages (from astunparse>=1.6.0->tensorflow-intel==2.13.1->tensorflow) (0.41.3)\n",
      "Requirement already satisfied: markdown>=2.6.8 in c:\\users\\gaurav bansal\\appdata\\local\\programs\\python\\python311\\lib\\site-packages (from tensorboard<2.14,>=2.13->tensorflow-intel==2.13.1->tensorflow) (3.5.1)\n",
      "Requirement already satisfied: werkzeug>=1.0.1 in c:\\users\\gaurav bansal\\appdata\\local\\programs\\python\\python311\\lib\\site-packages (from tensorboard<2.14,>=2.13->tensorflow-intel==2.13.1->tensorflow) (3.0.1)\n",
      "Requirement already satisfied: google-auth<3,>=1.6.3 in c:\\users\\gaurav bansal\\appdata\\local\\programs\\python\\python311\\lib\\site-packages (from tensorboard<2.14,>=2.13->tensorflow-intel==2.13.1->tensorflow) (2.23.4)\n",
      "Requirement already satisfied: tensorboard-data-server<0.8.0,>=0.7.0 in c:\\users\\gaurav bansal\\appdata\\local\\programs\\python\\python311\\lib\\site-packages (from tensorboard<2.14,>=2.13->tensorflow-intel==2.13.1->tensorflow) (0.7.2)\n",
      "Requirement already satisfied: requests<3,>=2.21.0 in c:\\users\\gaurav bansal\\appdata\\local\\programs\\python\\python311\\lib\\site-packages (from tensorboard<2.14,>=2.13->tensorflow-intel==2.13.1->tensorflow) (2.28.1)\n",
      "Requirement already satisfied: google-auth-oauthlib<1.1,>=0.5 in c:\\users\\gaurav bansal\\appdata\\local\\programs\\python\\python311\\lib\\site-packages (from tensorboard<2.14,>=2.13->tensorflow-intel==2.13.1->tensorflow) (1.0.0)\n",
      "Requirement already satisfied: cachetools<6.0,>=2.0.0 in c:\\users\\gaurav bansal\\appdata\\local\\programs\\python\\python311\\lib\\site-packages (from google-auth<3,>=1.6.3->tensorboard<2.14,>=2.13->tensorflow-intel==2.13.1->tensorflow) (5.3.2)\n",
      "Requirement already satisfied: rsa<5,>=3.1.4 in c:\\users\\gaurav bansal\\appdata\\local\\programs\\python\\python311\\lib\\site-packages (from google-auth<3,>=1.6.3->tensorboard<2.14,>=2.13->tensorflow-intel==2.13.1->tensorflow) (4.9)\n",
      "Requirement already satisfied: pyasn1-modules>=0.2.1 in c:\\users\\gaurav bansal\\appdata\\local\\programs\\python\\python311\\lib\\site-packages (from google-auth<3,>=1.6.3->tensorboard<2.14,>=2.13->tensorflow-intel==2.13.1->tensorflow) (0.3.0)\n",
      "Requirement already satisfied: requests-oauthlib>=0.7.0 in c:\\users\\gaurav bansal\\appdata\\local\\programs\\python\\python311\\lib\\site-packages (from google-auth-oauthlib<1.1,>=0.5->tensorboard<2.14,>=2.13->tensorflow-intel==2.13.1->tensorflow) (1.3.1)\n",
      "Requirement already satisfied: certifi>=2017.4.17 in c:\\users\\gaurav bansal\\appdata\\local\\programs\\python\\python311\\lib\\site-packages (from requests<3,>=2.21.0->tensorboard<2.14,>=2.13->tensorflow-intel==2.13.1->tensorflow) (2022.12.7)\n",
      "Requirement already satisfied: idna<4,>=2.5 in c:\\users\\gaurav bansal\\appdata\\local\\programs\\python\\python311\\lib\\site-packages (from requests<3,>=2.21.0->tensorboard<2.14,>=2.13->tensorflow-intel==2.13.1->tensorflow) (3.4)\n",
      "Requirement already satisfied: urllib3<1.27,>=1.21.1 in c:\\users\\gaurav bansal\\appdata\\local\\programs\\python\\python311\\lib\\site-packages (from requests<3,>=2.21.0->tensorboard<2.14,>=2.13->tensorflow-intel==2.13.1->tensorflow) (1.26.13)\n",
      "Requirement already satisfied: charset-normalizer<3,>=2 in c:\\users\\gaurav bansal\\appdata\\local\\programs\\python\\python311\\lib\\site-packages (from requests<3,>=2.21.0->tensorboard<2.14,>=2.13->tensorflow-intel==2.13.1->tensorflow) (2.1.1)\n",
      "Requirement already satisfied: MarkupSafe>=2.1.1 in c:\\users\\gaurav bansal\\appdata\\local\\programs\\python\\python311\\lib\\site-packages (from werkzeug>=1.0.1->tensorboard<2.14,>=2.13->tensorflow-intel==2.13.1->tensorflow) (2.1.2)\n",
      "Requirement already satisfied: pyasn1<0.6.0,>=0.4.6 in c:\\users\\gaurav bansal\\appdata\\local\\programs\\python\\python311\\lib\\site-packages (from pyasn1-modules>=0.2.1->google-auth<3,>=1.6.3->tensorboard<2.14,>=2.13->tensorflow-intel==2.13.1->tensorflow) (0.5.1)\n",
      "Requirement already satisfied: oauthlib>=3.0.0 in c:\\users\\gaurav bansal\\appdata\\local\\programs\\python\\python311\\lib\\site-packages (from requests-oauthlib>=0.7.0->google-auth-oauthlib<1.1,>=0.5->tensorboard<2.14,>=2.13->tensorflow-intel==2.13.1->tensorflow) (3.2.2)\n"
     ]
    }
   ],
   "source": [
    "pip install tensorflow"
   ]
  },
  {
   "cell_type": "code",
   "execution_count": 9,
   "id": "ab48a7a2-1a85-4c2e-b0e7-b5754f41cb82",
   "metadata": {
    "tags": []
   },
   "outputs": [],
   "source": [
    "import tensorflow as tf"
   ]
  },
  {
   "cell_type": "code",
   "execution_count": 10,
   "id": "1ed139df-c2da-4812-a945-c5cf3410135b",
   "metadata": {
    "tags": []
   },
   "outputs": [],
   "source": [
    "import cv2\n",
    "import os\n",
    "import random\n",
    "import numpy as np\n",
    "from matplotlib import pyplot as plt\n",
    "import tensorflow as tf"
   ]
  },
  {
   "cell_type": "code",
   "execution_count": 11,
   "id": "0bd51dc1-de67-42d9-9c9f-7545dd1846b6",
   "metadata": {
    "tags": []
   },
   "outputs": [],
   "source": [
    "gpus = tf.config.experimental.list_physical_devices('GPU')\n",
    "for gpu in gpus: \n",
    "    tf.config.experimental.set_memory_growth(gpu, True)"
   ]
  },
  {
   "cell_type": "code",
   "execution_count": 12,
   "id": "83f090fb-2a24-43b6-b54c-83ecf9aac885",
   "metadata": {
    "tags": []
   },
   "outputs": [],
   "source": [
    "# Import tensorflow dependencies - Functional API\n",
    "from tensorflow.keras.models import Model\n",
    "from tensorflow.keras.layers import Layer, Conv2D, Dense, MaxPooling2D, Input, Flatten\n",
    "import tensorflow as tf"
   ]
  },
  {
   "cell_type": "code",
   "execution_count": 13,
   "id": "61df6f39-0640-4ed0-8267-16d68177937b",
   "metadata": {
    "tags": []
   },
   "outputs": [],
   "source": [
    "# Setup paths\n",
    "POS_PATH = os.path.join('data', 'positive')\n",
    "NEG_PATH = os.path.join('data', 'negative')\n",
    "ANC_PATH = os.path.join('data', 'anchor')"
   ]
  },
  {
   "cell_type": "code",
   "execution_count": 16,
   "id": "658407f9-68e5-4b90-aba3-65c9a5a9c11c",
   "metadata": {
    "tags": []
   },
   "outputs": [
    {
     "ename": "FileExistsError",
     "evalue": "[WinError 183] Cannot create a file when that file already exists: 'data\\\\positive'",
     "output_type": "error",
     "traceback": [
      "\u001b[1;31m---------------------------------------------------------------------------\u001b[0m",
      "\u001b[1;31mFileExistsError\u001b[0m                           Traceback (most recent call last)",
      "Cell \u001b[1;32mIn[16], line 2\u001b[0m\n\u001b[0;32m      1\u001b[0m \u001b[38;5;66;03m# Make the directories\u001b[39;00m\n\u001b[1;32m----> 2\u001b[0m \u001b[43mos\u001b[49m\u001b[38;5;241;43m.\u001b[39;49m\u001b[43mmakedirs\u001b[49m\u001b[43m(\u001b[49m\u001b[43mPOS_PATH\u001b[49m\u001b[43m)\u001b[49m\n\u001b[0;32m      3\u001b[0m os\u001b[38;5;241m.\u001b[39mmakedirs(NEG_PATH)\n\u001b[0;32m      4\u001b[0m os\u001b[38;5;241m.\u001b[39mmakedirs(ANC_PATH)\n",
      "File \u001b[1;32m<frozen os>:225\u001b[0m, in \u001b[0;36mmakedirs\u001b[1;34m(name, mode, exist_ok)\u001b[0m\n",
      "\u001b[1;31mFileExistsError\u001b[0m: [WinError 183] Cannot create a file when that file already exists: 'data\\\\positive'"
     ]
    }
   ],
   "source": [
    "# Make the directories\n",
    "os.makedirs(POS_PATH)\n",
    "os.makedirs(NEG_PATH)\n",
    "os.makedirs(ANC_PATH)"
   ]
  },
  {
   "cell_type": "code",
   "execution_count": 17,
   "id": "b2717aa1-3c5e-4fa3-bbbc-6fb08fd4cff9",
   "metadata": {
    "tags": []
   },
   "outputs": [],
   "source": [
    "# Uncompress Tar GZ Labelled Faces in the Wild Dataset\n",
    "!tar -xf lfw.tgz"
   ]
  },
  {
   "cell_type": "code",
   "execution_count": 18,
   "id": "8e399936-1b02-473f-b5d4-d94d339b4c97",
   "metadata": {
    "tags": []
   },
   "outputs": [],
   "source": [
    "# Uncompress Tar GZ Labelled Faces in the Wild Dataset\n",
    "!tar -xf lfw.tgz\n"
   ]
  },
  {
   "cell_type": "code",
   "execution_count": 18,
   "id": "c495de9c-64c4-4560-8be1-1bcbfb986b8b",
   "metadata": {
    "tags": []
   },
   "outputs": [],
   "source": [
    "# Move LFW Images to the following repository data/negative\n",
    "for directory in os.listdir('lfw'):\n",
    "    for file in os.listdir(os.path.join('lfw', directory)):\n",
    "        EX_PATH = os.path.join('lfw', directory, file)\n",
    "        NEW_PATH = os.path.join(NEG_PATH, file)\n",
    "        os.replace(EX_PATH, NEW_PATH)"
   ]
  },
  {
   "cell_type": "code",
   "execution_count": 19,
   "id": "522f905e-4071-42c8-a9cb-0ebce62e7a5e",
   "metadata": {
    "tags": []
   },
   "outputs": [],
   "source": [
    "# Import uuid library to generate unique image names\n",
    "import uuid"
   ]
  },
  {
   "cell_type": "code",
   "execution_count": 20,
   "id": "e3ff419c-8384-4049-90b2-acde65a970fb",
   "metadata": {
    "tags": []
   },
   "outputs": [
    {
     "data": {
      "text/plain": [
       "'data\\\\anchor\\\\74e3dd24-8b46-11ee-bbb0-a5c007f79160.jpg'"
      ]
     },
     "execution_count": 20,
     "metadata": {},
     "output_type": "execute_result"
    }
   ],
   "source": [
    "os.path.join(ANC_PATH,'{}.jpg'.format(uuid.uuid1()))"
   ]
  },
  {
   "cell_type": "code",
   "execution_count": 21,
   "id": "d2278259-be63-446f-9c11-f9dcba8a2bdf",
   "metadata": {
    "tags": []
   },
   "outputs": [],
   "source": [
    "# Establish a connection to the webcam\n",
    "cap = cv2.VideoCapture(0)\n",
    "while cap.isOpened(): \n",
    "    ret, frame = cap.read()\n",
    "\n",
    "    frame = frame[120:120+250,200:200+250, :]\n",
    "\n",
    "    #collect anchors\n",
    "    if cv2.waitKey(1) & 0XFF == ord('a'):\n",
    "        # Create the unique file path \n",
    "        imgname = os.path.join(ANC_PATH, '{}.jpg'.format(uuid.uuid1()))\n",
    "        # Write out anchor image\n",
    "        cv2.imwrite(imgname, frame)\n",
    "\n",
    "    #collect positives\n",
    "    if cv2.waitKey(1) & 0XFF == ord('p'):\n",
    "        # Create the unique file path \n",
    "        imgname = os.path.join(POS_PATH, '{}.jpg'.format(uuid.uuid1()))\n",
    "        # Write out anchor image\n",
    "        cv2.imwrite(imgname, frame)\n",
    "\n",
    "# Show image back to screen\n",
    "    cv2.imshow('Image Collection', frame)\n",
    "    \n",
    "    # Breaking gracefully\n",
    "    if cv2.waitKey(1) & 0XFF == ord('q'):\n",
    "        break\n",
    "        \n",
    "# Release the webcam\n",
    "cap.release()\n",
    "# Close the image show frame\n",
    "cv2.destroyAllWindows()"
   ]
  },
  {
   "cell_type": "code",
   "execution_count": 23,
   "id": "0c93ba3d-aee1-4d87-9ddb-fd10cfe2ed38",
   "metadata": {
    "tags": []
   },
   "outputs": [
    {
     "data": {
      "text/plain": [
       "<matplotlib.image.AxesImage at 0x19ef9e571d0>"
      ]
     },
     "execution_count": 23,
     "metadata": {},
     "output_type": "execute_result"
    },
    {
     "data": {
      "image/png": "[encoded data removed]",
      "text/plain": [
       "<Figure size 640x480 with 1 Axes>"
      ]
     },
     "metadata": {},
     "output_type": "display_data"
    }
   ],
   "source": [
    "plt.imshow(frame[120:120+250,200:200+250, :])"
   ]
  },
  {
   "cell_type": "code",
   "execution_count": 24,
   "id": "d6538eba-d3fa-4c0b-a153-f936145b5177",
   "metadata": {
    "tags": []
   },
   "outputs": [],
   "source": [
    "anchor = tf.data.Dataset.list_files(ANC_PATH+'\\*.jpg').take(100)\n",
    "positive = tf.data.Dataset.list_files(POS_PATH+'\\*.jpg').take(100)\n",
    "negative = tf.data.Dataset.list_files(NEG_PATH+'\\*.jpg').take(100)"
   ]
  },
  {
   "cell_type": "code",
   "execution_count": 25,
   "id": "6c5eea78-f12a-4467-91f7-abbe037bfdbe",
   "metadata": {
    "tags": []
   },
   "outputs": [],
   "source": [
    "dir_test = anchor.as_numpy_iterator()"
   ]
  },
  {
   "cell_type": "code",
   "execution_count": 26,
   "id": "e2024330-0565-4879-a52f-25be3025b317",
   "metadata": {
    "tags": []
   },
   "outputs": [
    {
     "name": "stdout",
     "output_type": "stream",
     "text": [
      "b'data\\\\anchor\\\\3bb2c65c-8af8-11ee-a906-a5c007f79160.jpg'\n"
     ]
    }
   ],
   "source": [
    "print(dir_test.next())"
   ]
  },
  {
   "cell_type": "code",
   "execution_count": 27,
   "id": "c1b4a244-2c22-4562-8074-c54f7d617ba6",
   "metadata": {
    "tags": []
   },
   "outputs": [],
   "source": [
    "def preprocess(file_path):\n",
    "    \n",
    "    # Read in image from file path\n",
    "    byte_img = tf.io.read_file(file_path)\n",
    "    # Load in the image \n",
    "    img = tf.io.decode_jpeg(byte_img)\n",
    "    \n",
    "    # Preprocessing steps - resizing the image to be 100x100x3\n",
    "    img = tf.image.resize(img, (100,100))\n",
    "    # Scale image to be between 0 and 1 \n",
    "    img = img / 255.0\n",
    "    \n",
    "    # Return image\n",
    "    return img"
   ]
  },
  {
   "cell_type": "code",
   "execution_count": 28,
   "id": "76b85d83-9c97-4480-9870-cea5d72ac394",
   "metadata": {
    "tags": []
   },
   "outputs": [],
   "source": [
    "img = preprocess('data\\\\anchor\\\\4b345351-8af8-11ee-93da-a5c007f79160.jpg')"
   ]
  },
  {
   "cell_type": "code",
   "execution_count": 29,
   "id": "0119131e-25be-4668-b31f-73d9856246b1",
   "metadata": {
    "tags": []
   },
   "outputs": [
    {
     "data": {
      "text/plain": [
       "0.0"
      ]
     },
     "execution_count": 29,
     "metadata": {},
     "output_type": "execute_result"
    }
   ],
   "source": [
    "img.numpy().min()"
   ]
  },
  {
   "cell_type": "code",
   "execution_count": 30,
   "id": "e55aa2aa-42d9-41d3-8ae7-d852831ae228",
   "metadata": {
    "tags": []
   },
   "outputs": [
    {
     "data": {
      "text/plain": [
       "<matplotlib.image.AxesImage at 0x19ef86a7ad0>"
      ]
     },
     "execution_count": 30,
     "metadata": {},
     "output_type": "execute_result"
    },
    {
     "data": {
      "image/png": "[encoded data removed]",
      "text/plain": [
       "<Figure size 640x480 with 1 Axes>"
      ]
     },
     "metadata": {},
     "output_type": "display_data"
    }
   ],
   "source": [
    "plt.imshow(img)"
   ]
  },
  {
   "cell_type": "code",
   "execution_count": 31,
   "id": "7b2adec0-f42f-4643-883e-356c95814f77",
   "metadata": {
    "tags": []
   },
   "outputs": [
    {
     "ename": "NameError",
     "evalue": "name 'dataset' is not defined",
     "output_type": "error",
     "traceback": [
      "\u001b[1;31m---------------------------------------------------------------------------\u001b[0m",
      "\u001b[1;31mNameError\u001b[0m                                 Traceback (most recent call last)",
      "Cell \u001b[1;32mIn[31], line 1\u001b[0m\n\u001b[1;32m----> 1\u001b[0m \u001b[43mdataset\u001b[49m\u001b[38;5;241m.\u001b[39mmap(preprocess)\n",
      "\u001b[1;31mNameError\u001b[0m: name 'dataset' is not defined"
     ]
    }
   ],
   "source": [
    "dataset.map(preprocess)"
   ]
  },
  {
   "cell_type": "code",
   "execution_count": 32,
   "id": "59c57e8d-d1cd-4364-a40a-41af6901fb9f",
   "metadata": {
    "tags": []
   },
   "outputs": [
    {
     "data": {
      "text/plain": [
       "<tf.Tensor: shape=(100,), dtype=float32, numpy=\n",
       "array([1., 1., 1., 1., 1., 1., 1., 1., 1., 1., 1., 1., 1., 1., 1., 1., 1.,\n",
       "       1., 1., 1., 1., 1., 1., 1., 1., 1., 1., 1., 1., 1., 1., 1., 1., 1.,\n",
       "       1., 1., 1., 1., 1., 1., 1., 1., 1., 1., 1., 1., 1., 1., 1., 1., 1.,\n",
       "       1., 1., 1., 1., 1., 1., 1., 1., 1., 1., 1., 1., 1., 1., 1., 1., 1.,\n",
       "       1., 1., 1., 1., 1., 1., 1., 1., 1., 1., 1., 1., 1., 1., 1., 1., 1.,\n",
       "       1., 1., 1., 1., 1., 1., 1., 1., 1., 1., 1., 1., 1., 1., 1.],\n",
       "      dtype=float32)>"
      ]
     },
     "execution_count": 32,
     "metadata": {},
     "output_type": "execute_result"
    }
   ],
   "source": [
    "tf.ones(len(anchor))"
   ]
  },
  {
   "cell_type": "code",
   "execution_count": 33,
   "id": "ad734627-2f5c-4418-a617-52652076df92",
   "metadata": {
    "tags": []
   },
   "outputs": [],
   "source": [
    "positives = tf.data.Dataset.zip((anchor, positive, tf.data.Dataset.from_tensor_slices(tf.ones(len(anchor)))))\n",
    "negatives = tf.data.Dataset.zip((anchor, negative, tf.data.Dataset.from_tensor_slices(tf.zeros(len(anchor)))))\n",
    "data = positives.concatenate(negatives)"
   ]
  },
  {
   "cell_type": "code",
   "execution_count": 34,
   "id": "070bb880-0e15-4c03-8c3a-0845e6d070d6",
   "metadata": {
    "tags": []
   },
   "outputs": [
    {
     "data": {
      "text/plain": [
       "<_ConcatenateDataset element_spec=(TensorSpec(shape=(), dtype=tf.string, name=None), TensorSpec(shape=(), dtype=tf.string, name=None), TensorSpec(shape=(), dtype=tf.float32, name=None))>"
      ]
     },
     "execution_count": 34,
     "metadata": {},
     "output_type": "execute_result"
    }
   ],
   "source": [
    "data"
   ]
  },
  {
   "cell_type": "code",
   "execution_count": 35,
   "id": "554ee63f-5221-44c0-8bf4-4455c08af3c1",
   "metadata": {
    "tags": []
   },
   "outputs": [],
   "source": [
    "samples = data.as_numpy_iterator()"
   ]
  },
  {
   "cell_type": "code",
   "execution_count": 36,
   "id": "1b6c3cf9-43bd-4686-9812-e9df5059e2ec",
   "metadata": {
    "tags": []
   },
   "outputs": [],
   "source": [
    "exampple = samples.next()"
   ]
  },
  {
   "cell_type": "code",
   "execution_count": 37,
   "id": "2356114d-b6d1-4324-ab3d-963addcf2faa",
   "metadata": {
    "tags": []
   },
   "outputs": [
    {
     "data": {
      "text/plain": [
       "(b'data\\\\anchor\\\\41c2a9bb-8af8-11ee-9d13-a5c007f79160.jpg',\n",
       " b'data\\\\positive\\\\5ed009cf-8af8-11ee-88c7-a5c007f79160.jpg',\n",
       " 1.0)"
      ]
     },
     "execution_count": 37,
     "metadata": {},
     "output_type": "execute_result"
    }
   ],
   "source": [
    "exampple"
   ]
  },
  {
   "cell_type": "code",
   "execution_count": 38,
   "id": "0923675d-ce82-4b59-be26-f1e9bbdc89af",
   "metadata": {
    "tags": []
   },
   "outputs": [],
   "source": [
    "def preprocess_twin(input_img, validation_img, label):\n",
    "    return(preprocess(input_img), preprocess(validation_img), label)"
   ]
  },
  {
   "cell_type": "code",
   "execution_count": 39,
   "id": "5957d9c6-598f-4153-af8d-d91ba1a283c6",
   "metadata": {
    "tags": []
   },
   "outputs": [],
   "source": [
    "res = preprocess_twin(*exampple)"
   ]
  },
  {
   "cell_type": "code",
   "execution_count": 40,
   "id": "c47ae21b-3b8f-4a84-a35d-d8847cd7f2c0",
   "metadata": {
    "tags": []
   },
   "outputs": [
    {
     "data": {
      "text/plain": [
       "<matplotlib.image.AxesImage at 0x19e85370110>"
      ]
     },
     "execution_count": 40,
     "metadata": {},
     "output_type": "execute_result"
    },
    {
     "data": {
      "image/png": "[encoded data removed]",
      "text/plain": [
       "<Figure size 640x480 with 1 Axes>"
      ]
     },
     "metadata": {},
     "output_type": "display_data"
    }
   ],
   "source": [
    "plt.imshow(res[1])"
   ]
  },
  {
   "cell_type": "code",
   "execution_count": 41,
   "id": "f24b8ebd-5ddb-4005-bb2b-95335c786cd6",
   "metadata": {
    "tags": []
   },
   "outputs": [
    {
     "data": {
      "text/plain": [
       "1.0"
      ]
     },
     "execution_count": 41,
     "metadata": {},
     "output_type": "execute_result"
    }
   ],
   "source": [
    "res[2]"
   ]
  },
  {
   "cell_type": "code",
   "execution_count": 42,
   "id": "2c4033d2-fe1f-4dfd-8e4a-24058d426b44",
   "metadata": {
    "tags": []
   },
   "outputs": [],
   "source": [
    "# Build dataloader pipeline\n",
    "data = data.map(preprocess_twin)\n",
    "data = data.cache()\n",
    "data = data.shuffle(buffer_size=1024)"
   ]
  },
  {
   "cell_type": "code",
   "execution_count": 43,
   "id": "5bcdf821-ff9f-4b11-8ac8-e3a2a07f94df",
   "metadata": {
    "tags": []
   },
   "outputs": [],
   "source": [
    "# Training partition\n",
    "train_data = data.take(round(len(data)*.7))\n",
    "train_data = train_data.batch(16)\n",
    "train_data = train_data.prefetch(8)"
   ]
  },
  {
   "cell_type": "code",
   "execution_count": 44,
   "id": "5234a2fd-12be-4d6e-add3-c068b8454502",
   "metadata": {
    "tags": []
   },
   "outputs": [],
   "source": [
    "test_data = data.skip(round(len(data)*.7))\n",
    "test_data = test_data.take(round(len(data)*.3))\n",
    "test_data = test_data.batch(16)\n",
    "test_data = test_data.prefetch(8)"
   ]
  },
  {
   "cell_type": "code",
   "execution_count": 45,
   "id": "899c4a5e-3dcd-4d3a-8693-4b6fa90b6b85",
   "metadata": {
    "tags": []
   },
   "outputs": [],
   "source": [
    "inp = Input(shape=(100,100,3), name='input_image')"
   ]
  },
  {
   "cell_type": "code",
   "execution_count": 46,
   "id": "cd4084ce-e7a1-46e6-9762-0005b6bc7d1d",
   "metadata": {
    "tags": []
   },
   "outputs": [],
   "source": [
    "c1 = Conv2D(64, (10,10), activation='relu')(inp)"
   ]
  },
  {
   "cell_type": "code",
   "execution_count": 47,
   "id": "d0e2c40b-c58a-4748-8759-44f216f80dc5",
   "metadata": {
    "tags": []
   },
   "outputs": [],
   "source": [
    "m1 = MaxPooling2D(64, (2,2), padding='same')(c1)"
   ]
  },
  {
   "cell_type": "code",
   "execution_count": 48,
   "id": "78ce6e3d-f833-407c-b967-279f36b2b191",
   "metadata": {
    "tags": []
   },
   "outputs": [],
   "source": [
    "c2 = Conv2D(128, (7,7), activation='relu')(m1)\n",
    "m2 = MaxPooling2D(64, (2,2), padding='same')(c2)"
   ]
  },
  {
   "cell_type": "code",
   "execution_count": 49,
   "id": "80894e9b-f9d1-44ed-8cc6-cb07190afe74",
   "metadata": {
    "tags": []
   },
   "outputs": [],
   "source": [
    "c3 = Conv2D(128, (4,4), activation='relu')(m2)\n",
    "m3 = MaxPooling2D(64, (2,2), padding='same')(c3)"
   ]
  },
  {
   "cell_type": "code",
   "execution_count": 50,
   "id": "38dcaef3-6843-408f-af48-98e84d1e98a1",
   "metadata": {
    "tags": []
   },
   "outputs": [],
   "source": [
    "c4 = Conv2D(256, (4,4), activation='relu')(m3)\n",
    "f1 = Flatten()(c4)\n",
    "d1 = Dense(4096, activation='sigmoid')(f1)"
   ]
  },
  {
   "cell_type": "code",
   "execution_count": 51,
   "id": "459b124b-ab42-4061-b782-156141078320",
   "metadata": {
    "tags": []
   },
   "outputs": [],
   "source": [
    "mod = Model(inputs=[inp], outputs=[d1], name='embedding')"
   ]
  },
  {
   "cell_type": "code",
   "execution_count": 52,
   "id": "611ad69e-b48a-4870-b098-c268fd6f7de3",
   "metadata": {
    "tags": []
   },
   "outputs": [
    {
     "name": "stdout",
     "output_type": "stream",
     "text": [
      "Model: \"embedding\"\n",
      "_________________________________________________________________\n",
      " Layer (type)                Output Shape              Param #   \n",
      "=================================================================\n",
      " input_image (InputLayer)    [(None, 100, 100, 3)]     0         \n",
      "                                                                 \n",
      " conv2d (Conv2D)             (None, 91, 91, 64)        19264     \n",
      "                                                                 \n",
      " max_pooling2d (MaxPooling2  (None, 46, 46, 64)        0         \n",
      " D)                                                              \n",
      "                                                                 \n",
      " conv2d_1 (Conv2D)           (None, 40, 40, 128)       401536    \n",
      "                                                                 \n",
      " max_pooling2d_1 (MaxPoolin  (None, 20, 20, 128)       0         \n",
      " g2D)                                                            \n",
      "                                                                 \n",
      " conv2d_2 (Conv2D)           (None, 17, 17, 128)       262272    \n",
      "                                                                 \n",
      " max_pooling2d_2 (MaxPoolin  (None, 9, 9, 128)         0         \n",
      " g2D)                                                            \n",
      "                                                                 \n",
      " conv2d_3 (Conv2D)           (None, 6, 6, 256)         524544    \n",
      "                                                                 \n",
      " flatten (Flatten)           (None, 9216)              0         \n",
      "                                                                 \n",
      " dense (Dense)               (None, 4096)              37752832  \n",
      "                                                                 \n",
      "=================================================================\n",
      "Total params: 38960448 (148.62 MB)\n",
      "Trainable params: 38960448 (148.62 MB)\n",
      "Non-trainable params: 0 (0.00 Byte)\n",
      "_________________________________________________________________\n"
     ]
    }
   ],
   "source": [
    "mod.summary()"
   ]
  },
  {
   "cell_type": "code",
   "execution_count": 53,
   "id": "58477cad-c5e3-4703-891a-b9ff061b8777",
   "metadata": {
    "tags": []
   },
   "outputs": [],
   "source": [
    "def make_embedding(): \n",
    "    inp = Input(shape=(100,100,3), name='input_image')\n",
    "    \n",
    "    # First block\n",
    "    c1 = Conv2D(64, (10,10), activation='relu')(inp)\n",
    "    m1 = MaxPooling2D(64, (2,2), padding='same')(c1)\n",
    "    \n",
    "    # Second block\n",
    "    c2 = Conv2D(128, (7,7), activation='relu')(m1)\n",
    "    m2 = MaxPooling2D(64, (2,2), padding='same')(c2)\n",
    "    \n",
    "    # Third block \n",
    "    c3 = Conv2D(128, (4,4), activation='relu')(m2)\n",
    "    m3 = MaxPooling2D(64, (2,2), padding='same')(c3)\n",
    "    \n",
    "    # Final embedding block\n",
    "    c4 = Conv2D(256, (4,4), activation='relu')(m3)\n",
    "    f1 = Flatten()(c4)\n",
    "    d1 = Dense(4096, activation='sigmoid')(f1)\n",
    "    \n",
    "    \n",
    "    return Model(inputs=[inp], outputs=[d1], name='embedding')"
   ]
  },
  {
   "cell_type": "code",
   "execution_count": 54,
   "id": "1acfcbf1-040f-4891-bd17-101992d64753",
   "metadata": {
    "tags": []
   },
   "outputs": [],
   "source": [
    "embedding = make_embedding()"
   ]
  },
  {
   "cell_type": "code",
   "execution_count": 55,
   "id": "c9864949-e3f2-4494-82ab-9c6e1fcfef11",
   "metadata": {
    "tags": []
   },
   "outputs": [
    {
     "name": "stdout",
     "output_type": "stream",
     "text": [
      "Model: \"embedding\"\n",
      "_________________________________________________________________\n",
      " Layer (type)                Output Shape              Param #   \n",
      "=================================================================\n",
      " input_image (InputLayer)    [(None, 100, 100, 3)]     0         \n",
      "                                                                 \n",
      " conv2d_4 (Conv2D)           (None, 91, 91, 64)        19264     \n",
      "                                                                 \n",
      " max_pooling2d_3 (MaxPoolin  (None, 46, 46, 64)        0         \n",
      " g2D)                                                            \n",
      "                                                                 \n",
      " conv2d_5 (Conv2D)           (None, 40, 40, 128)       401536    \n",
      "                                                                 \n",
      " max_pooling2d_4 (MaxPoolin  (None, 20, 20, 128)       0         \n",
      " g2D)                                                            \n",
      "                                                                 \n",
      " conv2d_6 (Conv2D)           (None, 17, 17, 128)       262272    \n",
      "                                                                 \n",
      " max_pooling2d_5 (MaxPoolin  (None, 9, 9, 128)         0         \n",
      " g2D)                                                            \n",
      "                                                                 \n",
      " conv2d_7 (Conv2D)           (None, 6, 6, 256)         524544    \n",
      "                                                                 \n",
      " flatten_1 (Flatten)         (None, 9216)              0         \n",
      "                                                                 \n",
      " dense_1 (Dense)             (None, 4096)              37752832  \n",
      "                                                                 \n",
      "=================================================================\n",
      "Total params: 38960448 (148.62 MB)\n",
      "Trainable params: 38960448 (148.62 MB)\n",
      "Non-trainable params: 0 (0.00 Byte)\n",
      "_________________________________________________________________\n"
     ]
    }
   ],
   "source": [
    "embedding.summary()"
   ]
  },
  {
   "cell_type": "code",
   "execution_count": 56,
   "id": "8019efce-bb07-4702-b7f8-b2ba647b30fa",
   "metadata": {
    "tags": []
   },
   "outputs": [],
   "source": [
    "# Siamese L1 Distance class\n",
    "class L1Dist(Layer):\n",
    "    \n",
    "    # Init method - inheritance\n",
    "    def __init__(self, **kwargs):\n",
    "        super().__init__()\n",
    "       \n",
    "    # Magic happens here - similarity calculation\n",
    "    def call(self, input_embedding, validation_embedding):\n",
    "        return tf.math.abs(input_embedding - validation_embedding)"
   ]
  },
  {
   "cell_type": "code",
   "execution_count": 57,
   "id": "f2473603-f51e-4e4d-8507-20c9b7bcc4d0",
   "metadata": {
    "tags": []
   },
   "outputs": [],
   "source": [
    "l1 = L1Dist()"
   ]
  },
  {
   "cell_type": "code",
   "execution_count": 58,
   "id": "660f9e32-4df5-4eb4-b4b6-6a44c038869e",
   "metadata": {
    "tags": []
   },
   "outputs": [
    {
     "ename": "NameError",
     "evalue": "name 'anchor_embedding' is not defined",
     "output_type": "error",
     "traceback": [
      "\u001b[1;31m---------------------------------------------------------------------------\u001b[0m",
      "\u001b[1;31mNameError\u001b[0m                                 Traceback (most recent call last)",
      "Cell \u001b[1;32mIn[58], line 1\u001b[0m\n\u001b[1;32m----> 1\u001b[0m l1(\u001b[43manchor_embedding\u001b[49m, validation_embedding)\n",
      "\u001b[1;31mNameError\u001b[0m: name 'anchor_embedding' is not defined"
     ]
    }
   ],
   "source": [
    "l1(anchor_embedding, validation_embedding)"
   ]
  },
  {
   "cell_type": "code",
   "execution_count": 59,
   "id": "88b28e47-debe-4779-acb1-51329ad756d0",
   "metadata": {
    "tags": []
   },
   "outputs": [],
   "source": [
    "input_image = Input(name='input_img', shape=(100,100,3))\n",
    "validation_image = Input(name='validation_img', shape=(100,100,3))"
   ]
  },
  {
   "cell_type": "code",
   "execution_count": 60,
   "id": "9a844209-ea8b-47d3-a366-d6a53bd8c95d",
   "metadata": {
    "tags": []
   },
   "outputs": [],
   "source": [
    "inp_embedding = embedding(input_image)\n",
    "val_embedding = embedding(validation_image)"
   ]
  },
  {
   "cell_type": "code",
   "execution_count": 61,
   "id": "4a6a8b8c-e673-4746-b080-7241fe8cead3",
   "metadata": {
    "tags": []
   },
   "outputs": [],
   "source": [
    "siamese_layer = L1Dist()"
   ]
  },
  {
   "cell_type": "code",
   "execution_count": 62,
   "id": "754faa01-465a-487e-8da1-b30379d54733",
   "metadata": {
    "tags": []
   },
   "outputs": [],
   "source": [
    "distances = siamese_layer(inp_embedding, val_embedding)"
   ]
  },
  {
   "cell_type": "code",
   "execution_count": 63,
   "id": "5239b116-945d-4529-b162-ea596d9d143c",
   "metadata": {
    "tags": []
   },
   "outputs": [],
   "source": [
    "classifier = Dense(1, activation='sigmoid')(distances)"
   ]
  },
  {
   "cell_type": "code",
   "execution_count": 64,
   "id": "66d936e8-a5f7-4db0-abd2-8632249f3381",
   "metadata": {
    "tags": []
   },
   "outputs": [
    {
     "data": {
      "text/plain": [
       "<KerasTensor: shape=(None, 1) dtype=float32 (created by layer 'dense_2')>"
      ]
     },
     "execution_count": 64,
     "metadata": {},
     "output_type": "execute_result"
    }
   ],
   "source": [
    "classifier"
   ]
  },
  {
   "cell_type": "code",
   "execution_count": 65,
   "id": "38171efb-a602-4f34-9206-7be929efb49a",
   "metadata": {
    "tags": []
   },
   "outputs": [],
   "source": [
    "siamese_network = Model(inputs=[input_image, validation_image], outputs=classifier, name='SiameseNetwork')"
   ]
  },
  {
   "cell_type": "code",
   "execution_count": 66,
   "id": "881c7b6d-ee16-4010-b49a-7b0822f39bfc",
   "metadata": {
    "tags": []
   },
   "outputs": [
    {
     "name": "stdout",
     "output_type": "stream",
     "text": [
      "Model: \"SiameseNetwork\"\n",
      "__________________________________________________________________________________________________\n",
      " Layer (type)                Output Shape                 Param #   Connected to                  \n",
      "==================================================================================================\n",
      " input_img (InputLayer)      [(None, 100, 100, 3)]        0         []                            \n",
      "                                                                                                  \n",
      " validation_img (InputLayer  [(None, 100, 100, 3)]        0         []                            \n",
      " )                                                                                                \n",
      "                                                                                                  \n",
      " embedding (Functional)      (None, 4096)                 3896044   ['input_img[0][0]',           \n",
      "                                                          8          'validation_img[0][0]']      \n",
      "                                                                                                  \n",
      " l1_dist_1 (L1Dist)          (None, 4096)                 0         ['embedding[0][0]',           \n",
      "                                                                     'embedding[1][0]']           \n",
      "                                                                                                  \n",
      " dense_2 (Dense)             (None, 1)                    4097      ['l1_dist_1[0][0]']           \n",
      "                                                                                                  \n",
      "==================================================================================================\n",
      "Total params: 38964545 (148.64 MB)\n",
      "Trainable params: 38964545 (148.64 MB)\n",
      "Non-trainable params: 0 (0.00 Byte)\n",
      "__________________________________________________________________________________________________\n"
     ]
    }
   ],
   "source": [
    "siamese_network.summary()"
   ]
  },
  {
   "cell_type": "code",
   "execution_count": 67,
   "id": "9376f9bc-9f74-426c-af87-a4ba9d76a69c",
   "metadata": {
    "tags": []
   },
   "outputs": [],
   "source": [
    "def make_siamese_model(): \n",
    "    \n",
    "    # Anchor image input in the network\n",
    "    input_image = Input(name='input_img', shape=(100,100,3))\n",
    "    \n",
    "    # Validation image in the network \n",
    "    validation_image = Input(name='validation_img', shape=(100,100,3))\n",
    "    \n",
    "    # Combine siamese distance components\n",
    "    siamese_layer = L1Dist()\n",
    "    siamese_layer._name = 'distance'\n",
    "    distances = siamese_layer(embedding(input_image), embedding(validation_image))\n",
    "    \n",
    "    # Classification layer \n",
    "    classifier = Dense(1, activation='sigmoid')(distances)\n",
    "    \n",
    "    return Model(inputs=[input_image, validation_image], outputs=classifier, name='SiameseNetwork')"
   ]
  },
  {
   "cell_type": "code",
   "execution_count": 68,
   "id": "f0705e4b-d08a-4504-8b74-54395a274ecd",
   "metadata": {
    "tags": []
   },
   "outputs": [],
   "source": [
    "siamese_model = make_siamese_model()"
   ]
  },
  {
   "cell_type": "code",
   "execution_count": 69,
   "id": "66b9c49b-3b34-4abd-bd33-f6820f75a0d6",
   "metadata": {
    "tags": []
   },
   "outputs": [
    {
     "name": "stdout",
     "output_type": "stream",
     "text": [
      "Model: \"SiameseNetwork\"\n",
      "__________________________________________________________________________________________________\n",
      " Layer (type)                Output Shape                 Param #   Connected to                  \n",
      "==================================================================================================\n",
      " input_img (InputLayer)      [(None, 100, 100, 3)]        0         []                            \n",
      "                                                                                                  \n",
      " validation_img (InputLayer  [(None, 100, 100, 3)]        0         []                            \n",
      " )                                                                                                \n",
      "                                                                                                  \n",
      " embedding (Functional)      (None, 4096)                 3896044   ['input_img[0][0]',           \n",
      "                                                          8          'validation_img[0][0]']      \n",
      "                                                                                                  \n",
      " distance (L1Dist)           (None, 4096)                 0         ['embedding[2][0]',           \n",
      "                                                                     'embedding[3][0]']           \n",
      "                                                                                                  \n",
      " dense_3 (Dense)             (None, 1)                    4097      ['distance[0][0]']            \n",
      "                                                                                                  \n",
      "==================================================================================================\n",
      "Total params: 38964545 (148.64 MB)\n",
      "Trainable params: 38964545 (148.64 MB)\n",
      "Non-trainable params: 0 (0.00 Byte)\n",
      "__________________________________________________________________________________________________\n"
     ]
    }
   ],
   "source": [
    "siamese_model.summary()"
   ]
  },
  {
   "cell_type": "code",
   "execution_count": 70,
   "id": "1c6dcbda-398e-4b7b-9064-6331a4f5b579",
   "metadata": {
    "tags": []
   },
   "outputs": [],
   "source": [
    "binary_cross_loss = tf.losses.BinaryCrossentropy()"
   ]
  },
  {
   "cell_type": "code",
   "execution_count": 71,
   "id": "b3ad02cb-1c42-4c37-ad2f-064c1e52bfb8",
   "metadata": {
    "tags": []
   },
   "outputs": [],
   "source": [
    "opt = tf.keras.optimizers.Adam(1e-4) # 0.0001"
   ]
  },
  {
   "cell_type": "code",
   "execution_count": 72,
   "id": "1bd63976-4891-4b10-a668-783057591115",
   "metadata": {
    "tags": []
   },
   "outputs": [],
   "source": [
    "checkpoint_dir = './training_checkpoints'\n",
    "checkpoint_prefix = os.path.join(checkpoint_dir, 'ckpt')\n",
    "checkpoint = tf.train.Checkpoint(opt=opt, siamese_model=siamese_model)"
   ]
  },
  {
   "cell_type": "code",
   "execution_count": 73,
   "id": "fe21dbc2-f317-4f48-9fac-1c14f26f1cbc",
   "metadata": {
    "tags": []
   },
   "outputs": [],
   "source": [
    "test_batch = train_data.as_numpy_iterator()"
   ]
  },
  {
   "cell_type": "code",
   "execution_count": 74,
   "id": "c78e0758-e740-4b07-92d8-9bae3f1ec3a1",
   "metadata": {
    "tags": []
   },
   "outputs": [],
   "source": [
    "batch_1 = test_batch.next()"
   ]
  },
  {
   "cell_type": "code",
   "execution_count": 75,
   "id": "e06bdc1a-a365-4c03-a061-9a2c17d1ab93",
   "metadata": {
    "tags": []
   },
   "outputs": [],
   "source": [
    "X = batch_1[:2]"
   ]
  },
  {
   "cell_type": "code",
   "execution_count": 76,
   "id": "cfbb099e-75de-4da0-8d16-f22141f270bc",
   "metadata": {
    "tags": []
   },
   "outputs": [],
   "source": [
    "y = batch_1[2]"
   ]
  },
  {
   "cell_type": "code",
   "execution_count": 77,
   "id": "d3fe03db-b435-4aa4-a044-22722c92bd11",
   "metadata": {
    "tags": []
   },
   "outputs": [
    {
     "data": {
      "text/plain": [
       "array([1., 1., 1., 0., 1., 1., 0., 1., 0., 0., 1., 0., 1., 0., 0., 1.],\n",
       "      dtype=float32)"
      ]
     },
     "execution_count": 77,
     "metadata": {},
     "output_type": "execute_result"
    }
   ],
   "source": [
    "y"
   ]
  },
  {
   "cell_type": "code",
   "execution_count": 78,
   "id": "69c7da2b-16cc-41fd-8af5-b4880211b205",
   "metadata": {
    "tags": []
   },
   "outputs": [
    {
     "data": {
      "text/plain": [
       "\u001b[1;31mInit signature:\u001b[0m\n",
       "\u001b[0mtf\u001b[0m\u001b[1;33m.\u001b[0m\u001b[0mlosses\u001b[0m\u001b[1;33m.\u001b[0m\u001b[0mBinaryCrossentropy\u001b[0m\u001b[1;33m(\u001b[0m\u001b[1;33m\n",
       "\u001b[0m    \u001b[0mfrom_logits\u001b[0m\u001b[1;33m=\u001b[0m\u001b[1;32mFalse\u001b[0m\u001b[1;33m,\u001b[0m\u001b[1;33m\n",
       "\u001b[0m    \u001b[0mlabel_smoothing\u001b[0m\u001b[1;33m=\u001b[0m\u001b[1;36m0.0\u001b[0m\u001b[1;33m,\u001b[0m\u001b[1;33m\n",
       "\u001b[0m    \u001b[0maxis\u001b[0m\u001b[1;33m=\u001b[0m\u001b[1;33m-\u001b[0m\u001b[1;36m1\u001b[0m\u001b[1;33m,\u001b[0m\u001b[1;33m\n",
       "\u001b[0m    \u001b[0mreduction\u001b[0m\u001b[1;33m=\u001b[0m\u001b[1;34m'auto'\u001b[0m\u001b[1;33m,\u001b[0m\u001b[1;33m\n",
       "\u001b[0m    \u001b[0mname\u001b[0m\u001b[1;33m=\u001b[0m\u001b[1;34m'binary_crossentropy'\u001b[0m\u001b[1;33m,\u001b[0m\u001b[1;33m\n",
       "\u001b[0m\u001b[1;33m)\u001b[0m\u001b[1;33m\u001b[0m\u001b[1;33m\u001b[0m\u001b[0m\n",
       "\u001b[1;31mSource:\u001b[0m        \n",
       "\u001b[1;33m@\u001b[0m\u001b[0mkeras_export\u001b[0m\u001b[1;33m(\u001b[0m\u001b[1;34m\"keras.losses.BinaryCrossentropy\"\u001b[0m\u001b[1;33m)\u001b[0m\u001b[1;33m\n",
       "\u001b[0m\u001b[1;32mclass\u001b[0m \u001b[0mBinaryCrossentropy\u001b[0m\u001b[1;33m(\u001b[0m\u001b[0mLossFunctionWrapper\u001b[0m\u001b[1;33m)\u001b[0m\u001b[1;33m:\u001b[0m\u001b[1;33m\n",
       "\u001b[0m    \u001b[1;34m\"\"\"Computes the cross-entropy loss between true labels and predicted labels.\n",
       "\n",
       "    Use this cross-entropy loss for binary (0 or 1) classification applications.\n",
       "    The loss function requires the following inputs:\n",
       "\n",
       "    - `y_true` (true label): This is either 0 or 1.\n",
       "    - `y_pred` (predicted value): This is the model's prediction, i.e, a single\n",
       "      floating-point value which either represents a\n",
       "      [logit](https://en.wikipedia.org/wiki/Logit), (i.e, value in [-inf, inf]\n",
       "      when `from_logits=True`) or a probability (i.e, value in [0., 1.] when\n",
       "      `from_logits=False`).\n",
       "\n",
       "    **Recommended Usage:** (set `from_logits=True`)\n",
       "\n",
       "    With `tf.keras` API:\n",
       "\n",
       "    ```python\n",
       "    model.compile(\n",
       "      loss=tf.keras.losses.BinaryCrossentropy(from_logits=True),\n",
       "      ....\n",
       "    )\n",
       "    ```\n",
       "\n",
       "    As a standalone function:\n",
       "\n",
       "    >>> # Example 1: (batch_size = 1, number of samples = 4)\n",
       "    >>> y_true = [0, 1, 0, 0]\n",
       "    >>> y_pred = [-18.6, 0.51, 2.94, -12.8]\n",
       "    >>> bce = tf.keras.losses.BinaryCrossentropy(from_logits=True)\n",
       "    >>> bce(y_true, y_pred).numpy()\n",
       "    0.865\n",
       "\n",
       "    >>> # Example 2: (batch_size = 2, number of samples = 4)\n",
       "    >>> y_true = [[0, 1], [0, 0]]\n",
       "    >>> y_pred = [[-18.6, 0.51], [2.94, -12.8]]\n",
       "    >>> # Using default 'auto'/'sum_over_batch_size' reduction type.\n",
       "    >>> bce = tf.keras.losses.BinaryCrossentropy(from_logits=True)\n",
       "    >>> bce(y_true, y_pred).numpy()\n",
       "    0.865\n",
       "    >>> # Using 'sample_weight' attribute\n",
       "    >>> bce(y_true, y_pred, sample_weight=[0.8, 0.2]).numpy()\n",
       "    0.243\n",
       "    >>> # Using 'sum' reduction` type.\n",
       "    >>> bce = tf.keras.losses.BinaryCrossentropy(from_logits=True,\n",
       "    ...     reduction=tf.keras.losses.Reduction.SUM)\n",
       "    >>> bce(y_true, y_pred).numpy()\n",
       "    1.730\n",
       "    >>> # Using 'none' reduction type.\n",
       "    >>> bce = tf.keras.losses.BinaryCrossentropy(from_logits=True,\n",
       "    ...     reduction=tf.keras.losses.Reduction.NONE)\n",
       "    >>> bce(y_true, y_pred).numpy()\n",
       "    array([0.235, 1.496], dtype=float32)\n",
       "\n",
       "    **Default Usage:** (set `from_logits=False`)\n",
       "\n",
       "    >>> # Make the following updates to the above \"Recommended Usage\" section\n",
       "    >>> # 1. Set `from_logits=False`\n",
       "    >>> tf.keras.losses.BinaryCrossentropy() # OR ...('from_logits=False')\n",
       "    >>> # 2. Update `y_pred` to use probabilities instead of logits\n",
       "    >>> y_pred = [0.6, 0.3, 0.2, 0.8] # OR [[0.6, 0.3], [0.2, 0.8]]\n",
       "    \"\"\"\u001b[0m\u001b[1;33m\n",
       "\u001b[0m\u001b[1;33m\n",
       "\u001b[0m    \u001b[1;32mdef\u001b[0m \u001b[0m__init__\u001b[0m\u001b[1;33m(\u001b[0m\u001b[1;33m\n",
       "\u001b[0m        \u001b[0mself\u001b[0m\u001b[1;33m,\u001b[0m\u001b[1;33m\n",
       "\u001b[0m        \u001b[0mfrom_logits\u001b[0m\u001b[1;33m=\u001b[0m\u001b[1;32mFalse\u001b[0m\u001b[1;33m,\u001b[0m\u001b[1;33m\n",
       "\u001b[0m        \u001b[0mlabel_smoothing\u001b[0m\u001b[1;33m=\u001b[0m\u001b[1;36m0.0\u001b[0m\u001b[1;33m,\u001b[0m\u001b[1;33m\n",
       "\u001b[0m        \u001b[0maxis\u001b[0m\u001b[1;33m=\u001b[0m\u001b[1;33m-\u001b[0m\u001b[1;36m1\u001b[0m\u001b[1;33m,\u001b[0m\u001b[1;33m\n",
       "\u001b[0m        \u001b[0mreduction\u001b[0m\u001b[1;33m=\u001b[0m\u001b[0mlosses_utils\u001b[0m\u001b[1;33m.\u001b[0m\u001b[0mReductionV2\u001b[0m\u001b[1;33m.\u001b[0m\u001b[0mAUTO\u001b[0m\u001b[1;33m,\u001b[0m\u001b[1;33m\n",
       "\u001b[0m        \u001b[0mname\u001b[0m\u001b[1;33m=\u001b[0m\u001b[1;34m\"binary_crossentropy\"\u001b[0m\u001b[1;33m,\u001b[0m\u001b[1;33m\n",
       "\u001b[0m    \u001b[1;33m)\u001b[0m\u001b[1;33m:\u001b[0m\u001b[1;33m\n",
       "\u001b[0m        \u001b[1;34m\"\"\"Initializes `BinaryCrossentropy` instance.\n",
       "\n",
       "        Args:\n",
       "          from_logits: Whether to interpret `y_pred` as a tensor of\n",
       "            [logit](https://en.wikipedia.org/wiki/Logit) values. By default, we\n",
       "            assume that `y_pred` contains probabilities (i.e., values in [0,\n",
       "            1]).\n",
       "          label_smoothing: Float in [0, 1]. When 0, no smoothing occurs. When >\n",
       "            0, we compute the loss between the predicted labels and a smoothed\n",
       "            version of the true labels, where the smoothing squeezes the labels\n",
       "            towards 0.5.  Larger values of `label_smoothing` correspond to\n",
       "            heavier smoothing.\n",
       "          axis: The axis along which to compute crossentropy (the features\n",
       "            axis).  Defaults to -1.\n",
       "          reduction: Type of `tf.keras.losses.Reduction` to apply to\n",
       "            loss. Default value is `AUTO`. `AUTO` indicates that the reduction\n",
       "            option will be determined by the usage context. For almost all cases\n",
       "            this defaults to `SUM_OVER_BATCH_SIZE`. When used under a\n",
       "            `tf.distribute.Strategy`, except via `Model.compile()` and\n",
       "            `Model.fit()`, using `AUTO` or `SUM_OVER_BATCH_SIZE`\n",
       "            will raise an error. Please see this custom training [tutorial](\n",
       "            https://www.tensorflow.org/tutorials/distribute/custom_training)\n",
       "            for more details.\n",
       "          name: Name for the op. Defaults to 'binary_crossentropy'.\n",
       "        \"\"\"\u001b[0m\u001b[1;33m\n",
       "\u001b[0m        \u001b[0msuper\u001b[0m\u001b[1;33m(\u001b[0m\u001b[1;33m)\u001b[0m\u001b[1;33m.\u001b[0m\u001b[0m__init__\u001b[0m\u001b[1;33m(\u001b[0m\u001b[1;33m\n",
       "\u001b[0m            \u001b[0mbinary_crossentropy\u001b[0m\u001b[1;33m,\u001b[0m\u001b[1;33m\n",
       "\u001b[0m            \u001b[0mname\u001b[0m\u001b[1;33m=\u001b[0m\u001b[0mname\u001b[0m\u001b[1;33m,\u001b[0m\u001b[1;33m\n",
       "\u001b[0m            \u001b[0mreduction\u001b[0m\u001b[1;33m=\u001b[0m\u001b[0mreduction\u001b[0m\u001b[1;33m,\u001b[0m\u001b[1;33m\n",
       "\u001b[0m            \u001b[0mfrom_logits\u001b[0m\u001b[1;33m=\u001b[0m\u001b[0mfrom_logits\u001b[0m\u001b[1;33m,\u001b[0m\u001b[1;33m\n",
       "\u001b[0m            \u001b[0mlabel_smoothing\u001b[0m\u001b[1;33m=\u001b[0m\u001b[0mlabel_smoothing\u001b[0m\u001b[1;33m,\u001b[0m\u001b[1;33m\n",
       "\u001b[0m            \u001b[0maxis\u001b[0m\u001b[1;33m=\u001b[0m\u001b[0maxis\u001b[0m\u001b[1;33m,\u001b[0m\u001b[1;33m\n",
       "\u001b[0m        \u001b[1;33m)\u001b[0m\u001b[1;33m\n",
       "\u001b[0m        \u001b[0mself\u001b[0m\u001b[1;33m.\u001b[0m\u001b[0mfrom_logits\u001b[0m \u001b[1;33m=\u001b[0m \u001b[0mfrom_logits\u001b[0m\u001b[1;33m\u001b[0m\u001b[1;33m\u001b[0m\u001b[0m\n",
       "\u001b[1;31mFile:\u001b[0m           c:\\users\\gaurav bansal\\appdata\\local\\programs\\python\\python311\\lib\\site-packages\\keras\\src\\losses.py\n",
       "\u001b[1;31mType:\u001b[0m           type\n",
       "\u001b[1;31mSubclasses:\u001b[0m     "
      ]
     },
     "metadata": {},
     "output_type": "display_data"
    }
   ],
   "source": [
    "tf.losses.BinaryCrossentropy??"
   ]
  },
  {
   "cell_type": "code",
   "execution_count": 79,
   "id": "ea026493-79a6-4449-bc00-27cdeed3e279",
   "metadata": {
    "tags": []
   },
   "outputs": [],
   "source": [
    "@tf.function\n",
    "def train_step(batch):\n",
    "    \n",
    "    # Record all of our operations \n",
    "    with tf.GradientTape() as tape:     \n",
    "        # Get anchor and positive/negative image\n",
    "        X = batch[:2]\n",
    "        # Get label\n",
    "        y = batch[2]\n",
    "        \n",
    "        # Forward pass\n",
    "        yhat = siamese_model(X, training=True)\n",
    "        # Calculate loss\n",
    "        loss = binary_cross_loss(y, yhat)\n",
    "    print(loss)\n",
    "        \n",
    "    # Calculate gradients\n",
    "    grad = tape.gradient(loss, siamese_model.trainable_variables)\n",
    "    \n",
    "    # Calculate updated weights and apply to siamese model\n",
    "    opt.apply_gradients(zip(grad, siamese_model.trainable_variables))\n",
    "        \n",
    "    # Return loss\n",
    "    return loss"
   ]
  },
  {
   "cell_type": "code",
   "execution_count": 80,
   "id": "772882f0-4bcf-4e28-bd35-614af44457e4",
   "metadata": {
    "tags": []
   },
   "outputs": [],
   "source": [
    "# Import metric calculations\n",
    "from tensorflow.keras.metrics import Precision, Recall"
   ]
  },
  {
   "cell_type": "code",
   "execution_count": 81,
   "id": "2074b2cf-47be-4a45-8b45-062883f767bc",
   "metadata": {
    "tags": []
   },
   "outputs": [],
   "source": [
    "def train(data, EPOCHS):\n",
    "    # Loop through epochs\n",
    "    for epoch in range(1, EPOCHS+1):\n",
    "        print('\\n Epoch {}/{}'.format(epoch, EPOCHS))\n",
    "        progbar = tf.keras.utils.Progbar(len(data))\n",
    "        \n",
    "        # Creating a metric object \n",
    "        r = Recall()\n",
    "        p = Precision()\n",
    "        \n",
    "        # Loop through each batch\n",
    "        for idx, batch in enumerate(data):\n",
    "            # Run train step here\n",
    "            loss = train_step(batch)\n",
    "            yhat = siamese_model.predict(batch[:2])\n",
    "            r.update_state(batch[2], yhat)\n",
    "            p.update_state(batch[2], yhat) \n",
    "            progbar.update(idx+1)\n",
    "        print(loss.numpy(), r.result().numpy(), p.result().numpy())\n",
    "        \n",
    "        # Save checkpoints\n",
    "        if epoch % 10 == 0: \n",
    "            checkpoint.save(file_prefix=checkpoint_prefix)"
   ]
  },
  {
   "cell_type": "code",
   "execution_count": 82,
   "id": "56f5ff3b-4c46-4e02-823a-c5e4419eae58",
   "metadata": {
    "tags": []
   },
   "outputs": [],
   "source": [
    "EPOCHS = 50"
   ]
  },
  {
   "cell_type": "code",
   "execution_count": null,
   "id": "c882d103-aaa4-4e8b-99d3-a703ea5baf29",
   "metadata": {
    "tags": []
   },
   "outputs": [
    {
     "name": "stdout",
     "output_type": "stream",
     "text": [
      "\n",
      " Epoch 1/50\n",
      "Tensor(\"binary_crossentropy/weighted_loss/value:0\", shape=(), dtype=float32)\n",
      "Tensor(\"binary_crossentropy/weighted_loss/value:0\", shape=(), dtype=float32)\n",
      "1/1 [==============================] - 1s 1s/step\n",
      "1/1 [==============================] - 1s 1s/step\n",
      "1/1 [==============================] - 1s 1s/step\n",
      "1/1 [==============================] - 1s 1s/step\n",
      "1/1 [==============================] - 1s 1s/step\n",
      "1/1 [==============================] - 1s 1s/step\n",
      "1/1 [==============================] - 1s 1s/step\n",
      "1/1 [==============================] - 1s 1s/step\n",
      "8/9 [=========================>....] - ETA: 18sTensor(\"binary_crossentropy/weighted_loss/value:0\", shape=(), dtype=float32)\n",
      "1/1 [==============================] - 1s 853ms/step\n",
      "9/9 [==============================] - 163s 18s/step\n",
      "0.28794122 0.46153846 1.0\n",
      "\n",
      " Epoch 2/50\n",
      "1/1 [==============================] - 1s 1s/step\n",
      "1/1 [==============================] - 1s 1s/step\n",
      "1/1 [==============================] - 1s 1s/step\n",
      "1/1 [==============================] - 1s 1s/step\n",
      "1/1 [==============================] - 1s 1s/step\n",
      "1/1 [==============================] - 1s 1s/step\n",
      "1/1 [==============================] - 1s 1s/step\n",
      "1/1 [==============================] - 1s 1s/step\n",
      "1/1 [==============================] - 1s 873ms/step\n",
      "9/9 [==============================] - 163s 18s/step\n",
      "0.08586284 0.8356164 1.0\n",
      "\n",
      " Epoch 3/50\n",
      "1/1 [==============================] - 1s 1s/step\n",
      "1/1 [==============================] - 1s 1s/step\n",
      "1/1 [==============================] - 1s 1s/step\n",
      "1/1 [==============================] - 1s 1s/step\n",
      "1/1 [==============================] - 1s 1s/step\n",
      "1/1 [==============================] - 1s 1s/step\n",
      "1/1 [==============================] - 1s 1s/step\n",
      "1/1 [==============================] - 1s 1s/step\n",
      "1/1 [==============================] - 1s 860ms/step\n",
      "9/9 [==============================] - 171s 19s/step\n",
      "0.17049515 0.9583333 1.0\n",
      "\n",
      " Epoch 4/50\n",
      "1/1 [==============================] - 1s 1s/step\n",
      "1/1 [==============================] - 1s 1s/step\n",
      "1/1 [==============================] - 1s 1s/step\n",
      "1/1 [==============================] - 1s 1s/step\n",
      "1/1 [==============================] - 1s 1s/step\n",
      "1/1 [==============================] - 1s 1s/step\n",
      "1/1 [==============================] - 1s 1s/step\n",
      "1/1 [==============================] - 1s 1s/step\n",
      "1/1 [==============================] - 1s 871ms/step\n",
      "9/9 [==============================] - 165s 18s/step\n",
      "0.18244512 0.98507464 1.0\n",
      "\n",
      " Epoch 5/50\n",
      "1/1 [==============================] - 1s 1s/step\n",
      "1/1 [==============================] - 1s 1s/step\n",
      "1/1 [==============================] - 1s 1s/step\n",
      "1/1 [==============================] - 1s 1s/step\n",
      "1/1 [==============================] - 1s 1s/step\n",
      "1/1 [==============================] - 1s 1s/step\n",
      "1/1 [==============================] - 1s 1s/step\n",
      "1/1 [==============================] - 1s 1s/step\n",
      "1/1 [==============================] - 1s 906ms/step\n",
      "9/9 [==============================] - 160s 18s/step\n",
      "0.010531999 0.969697 1.0\n",
      "\n",
      " Epoch 6/50\n",
      "1/1 [==============================] - 1s 1s/step\n",
      "1/1 [==============================] - 1s 1s/step\n",
      "1/1 [==============================] - 1s 1s/step\n",
      "1/1 [==============================] - 1s 1s/step\n",
      "1/1 [==============================] - 1s 1s/step\n",
      "1/1 [==============================] - 1s 1s/step\n",
      "1/1 [==============================] - 1s 1s/step\n",
      "1/1 [==============================] - 1s 1s/step\n",
      "1/1 [==============================] - 1s 884ms/step\n",
      "9/9 [==============================] - 164s 18s/step\n",
      "0.0205414 1.0 1.0\n",
      "\n",
      " Epoch 7/50\n",
      "1/1 [==============================] - 1s 1s/step\n",
      "1/1 [==============================] - 1s 1s/step\n",
      "1/1 [==============================] - 1s 1s/step\n",
      "1/1 [==============================] - 1s 1s/step\n",
      "1/1 [==============================] - 1s 1s/step\n",
      "1/1 [==============================] - 1s 1s/step\n",
      "1/1 [==============================] - 1s 1s/step\n",
      "1/1 [==============================] - 1s 1s/step\n",
      "1/1 [==============================] - 1s 888ms/step\n",
      "9/9 [==============================] - 169s 19s/step\n",
      "0.006311124 1.0 1.0\n",
      "\n",
      " Epoch 8/50\n",
      "1/1 [==============================] - 1s 1s/step\n",
      "1/1 [==============================] - 1s 1s/step\n",
      "1/1 [==============================] - 1s 1s/step\n",
      "1/1 [==============================] - 1s 1s/step\n",
      "1/1 [==============================] - 1s 1s/step\n",
      "1/1 [==============================] - 1s 1s/step\n",
      "1/1 [==============================] - 1s 1s/step\n",
      "1/1 [==============================] - 1s 1s/step\n",
      "1/1 [==============================] - 1s 542ms/step\n",
      "9/9 [==============================] - 226s 26s/step\n",
      "0.017100139 1.0 1.0\n",
      "\n",
      " Epoch 9/50\n",
      "1/1 [==============================] - 1s 875ms/step\n",
      "1/1 [==============================] - 1s 838ms/step\n",
      "1/1 [==============================] - 1s 836ms/step\n",
      "1/1 [==============================] - 1s 820ms/step\n",
      "1/1 [==============================] - 1s 883ms/step\n",
      "1/1 [==============================] - 1s 814ms/step\n",
      "1/1 [==============================] - 1s 782ms/step\n",
      "1/1 [==============================] - 1s 924ms/step\n",
      "1/1 [==============================] - 1s 563ms/step\n",
      "9/9 [==============================] - 186s 21s/step\n",
      "0.018592153 0.9577465 1.0\n",
      "\n",
      " Epoch 10/50\n",
      "1/1 [==============================] - 1s 812ms/step\n",
      "1/1 [==============================] - 1s 906ms/step\n",
      "1/1 [==============================] - 1s 867ms/step\n",
      "1/1 [==============================] - 1s 797ms/step\n",
      "1/1 [==============================] - 1s 812ms/step\n",
      "1/1 [==============================] - 1s 843ms/step\n",
      "1/1 [==============================] - 1s 859ms/step\n",
      "1/1 [==============================] - 1s 841ms/step\n",
      "1/1 [==============================] - 1s 563ms/step\n",
      "9/9 [==============================] - 184s 20s/step\n",
      "0.017633079 0.9859155 1.0\n",
      "\n",
      " Epoch 11/50\n",
      "1/1 [==============================] - 1s 840ms/step\n",
      "1/1 [==============================] - 1s 849ms/step\n",
      "1/1 [==============================] - 1s 782ms/step\n",
      "1/1 [==============================] - 1s 831ms/step\n",
      "1/1 [==============================] - 1s 988ms/step\n",
      "1/1 [==============================] - 1s 872ms/step\n",
      "1/1 [==============================] - 1s 857ms/step\n",
      "1/1 [==============================] - 1s 974ms/step\n",
      "1/1 [==============================] - 1s 547ms/step\n",
      "9/9 [==============================] - 178s 20s/step\n",
      "0.22427559 0.9859155 1.0\n",
      "\n",
      " Epoch 12/50\n",
      "1/1 [==============================] - 1s 848ms/step\n",
      "1/1 [==============================] - 1s 886ms/step\n",
      "1/1 [==============================] - 1s 796ms/step\n",
      "1/1 [==============================] - 1s 924ms/step\n",
      "1/1 [==============================] - 1s 846ms/step\n",
      "1/1 [==============================] - 1s 883ms/step\n",
      "1/1 [==============================] - 1s 843ms/step\n",
      "1/1 [==============================] - 1s 791ms/step\n",
      "1/1 [==============================] - 1s 568ms/step\n",
      "9/9 [==============================] - 181s 20s/step\n",
      "0.0060207676 1.0 0.9861111\n",
      "\n",
      " Epoch 13/50\n",
      "1/1 [==============================] - 1s 828ms/step\n",
      "1/1 [==============================] - 1s 832ms/step\n",
      "1/1 [==============================] - 1s 856ms/step\n",
      "1/1 [==============================] - 1s 847ms/step\n",
      "1/1 [==============================] - 1s 896ms/step\n",
      "1/1 [==============================] - 1s 830ms/step\n",
      "1/1 [==============================] - 1s 837ms/step\n",
      "1/1 [==============================] - 1s 866ms/step\n",
      "1/1 [==============================] - 1s 550ms/step\n",
      "9/9 [==============================] - 178s 20s/step\n",
      "0.0028616649 1.0 1.0\n",
      "\n",
      " Epoch 14/50\n",
      "1/1 [==============================] - 1s 835ms/step\n",
      "1/1 [==============================] - 1s 812ms/step\n",
      "1/1 [==============================] - 1s 834ms/step\n",
      "1/1 [==============================] - 1s 833ms/step\n",
      "1/1 [==============================] - 1s 940ms/step\n",
      "1/1 [==============================] - 1s 844ms/step\n",
      "1/1 [==============================] - 1s 854ms/step\n",
      "1/1 [==============================] - 1s 823ms/step\n",
      "1/1 [==============================] - 1s 578ms/step\n",
      "9/9 [==============================] - 184s 20s/step\n",
      "0.036953162 1.0 1.0\n",
      "\n",
      " Epoch 15/50\n",
      "1/1 [==============================] - 1s 914ms/step\n",
      "1/1 [==============================] - 1s 828ms/step\n",
      "1/1 [==============================] - 1s 829ms/step\n",
      "1/1 [==============================] - 1s 1s/step\n",
      "1/1 [==============================] - 1s 1s/step\n",
      "1/1 [==============================] - 1s 1s/step\n",
      "1/1 [==============================] - 1s 1s/step\n",
      "1/1 [==============================] - 1s 1s/step\n",
      "1/1 [==============================] - 1s 889ms/step\n",
      "9/9 [==============================] - 184s 20s/step\n",
      "0.0018268133 1.0 1.0\n",
      "\n",
      " Epoch 16/50\n",
      "1/1 [==============================] - 1s 1s/step\n",
      "1/1 [==============================] - 1s 1s/step\n",
      "1/1 [==============================] - 1s 1s/step\n",
      "1/1 [==============================] - 1s 1s/step\n",
      "1/1 [==============================] - 1s 1s/step\n",
      "1/1 [==============================] - 1s 1s/step\n",
      "1/1 [==============================] - 1s 1s/step\n",
      "1/1 [==============================] - 1s 1s/step\n",
      "1/1 [==============================] - 1s 940ms/step\n",
      "9/9 [==============================] - 170s 19s/step\n",
      "0.009945464 1.0 1.0\n",
      "\n",
      " Epoch 17/50\n",
      "1/1 [==============================] - 1s 1s/step\n",
      "1/1 [==============================] - 1s 1s/step\n",
      "1/1 [==============================] - 1s 1s/step\n",
      "1/1 [==============================] - 1s 1s/step\n",
      "1/1 [==============================] - 1s 1s/step\n",
      "1/1 [==============================] - 1s 1s/step\n",
      "1/1 [==============================] - 1s 1s/step\n",
      "1/1 [==============================] - 1s 1s/step\n",
      "1/1 [==============================] - 1s 858ms/step\n",
      "9/9 [==============================] - 167s 19s/step\n",
      "0.021782907 1.0 1.0\n",
      "\n",
      " Epoch 18/50\n",
      "1/1 [==============================] - 1s 1s/step\n",
      "1/1 [==============================] - 1s 1s/step\n",
      "1/1 [==============================] - 1s 1s/step\n",
      "1/1 [==============================] - 1s 1s/step\n",
      "1/1 [==============================] - 1s 1s/step\n",
      "1/1 [==============================] - 1s 1s/step\n",
      "1/1 [==============================] - 1s 1s/step\n",
      "1/1 [==============================] - 1s 1s/step\n",
      "1/1 [==============================] - 1s 861ms/step\n",
      "9/9 [==============================] - 184s 21s/step\n",
      "0.023906892 0.9861111 1.0\n",
      "\n",
      " Epoch 19/50\n"
     ]
    }
   ],
   "source": [
    "train(train_data, EPOCHS)"
   ]
  },
  {
   "cell_type": "code",
   "execution_count": 197,
   "id": "5bce2832-66d9-4c86-a6c5-a1c365503877",
   "metadata": {
    "tags": []
   },
   "outputs": [],
   "source": [
    "# Import metric calculations\n",
    "from tensorflow.keras.metrics import Precision, Recall"
   ]
  },
  {
   "cell_type": "code",
   "execution_count": 198,
   "id": "e30bd6d9-dc4d-41bd-8878-3e85490d9602",
   "metadata": {
    "tags": []
   },
   "outputs": [],
   "source": [
    "# Get a batch of test data\n",
    "test_input, test_val, y_true = test_data.as_numpy_iterator().next()"
   ]
  },
  {
   "cell_type": "code",
   "execution_count": 199,
   "id": "9ee690ee-4ec9-4716-8b5d-16a70867166a",
   "metadata": {
    "tags": []
   },
   "outputs": [
    {
     "name": "stdout",
     "output_type": "stream",
     "text": [
      "1/1 [==============================] - 0s 203ms/step\n"
     ]
    }
   ],
   "source": [
    "y_hat = siamese_model.predict([test_input, test_val])"
   ]
  },
  {
   "cell_type": "code",
   "execution_count": 200,
   "id": "9d1fb508-7262-41b1-82a1-6630a850a01b",
   "metadata": {
    "tags": []
   },
   "outputs": [
    {
     "data": {
      "text/plain": [
       "[0, 0, 0, 0, 1, 0, 1, 0, 1, 1, 1, 1, 0, 0, 0, 1]"
      ]
     },
     "execution_count": 200,
     "metadata": {},
     "output_type": "execute_result"
    }
   ],
   "source": [
    "# Post processing the results \n",
    "[1 if prediction > 0.5 else 0 for prediction in y_hat ]"
   ]
  },
  {
   "cell_type": "code",
   "execution_count": 201,
   "id": "3929dfe0-f915-43e5-9062-343f56c2b53e",
   "metadata": {
    "tags": []
   },
   "outputs": [
    {
     "data": {
      "text/plain": [
       "array([0., 0., 0., 0., 1., 0., 1., 0., 1., 1., 1., 1., 0., 0., 0., 1.],\n",
       "      dtype=float32)"
      ]
     },
     "execution_count": 201,
     "metadata": {},
     "output_type": "execute_result"
    }
   ],
   "source": [
    "y_true"
   ]
  },
  {
   "cell_type": "code",
   "execution_count": 202,
   "id": "91103cc7-8ed6-43b6-8824-5f6ecbce637d",
   "metadata": {
    "tags": []
   },
   "outputs": [
    {
     "data": {
      "text/plain": [
       "1.0"
      ]
     },
     "execution_count": 202,
     "metadata": {},
     "output_type": "execute_result"
    }
   ],
   "source": [
    "# Creating a metric object \n",
    "m = Recall()\n",
    "\n",
    "# Calculating the recall value \n",
    "m.update_state(y_true, y_hat)\n",
    "\n",
    "# Return Recall Result\n",
    "m.result().numpy()"
   ]
  },
  {
   "cell_type": "code",
   "execution_count": 203,
   "id": "3b8e6e23-f0b1-4426-b476-92f73ade7f21",
   "metadata": {
    "tags": []
   },
   "outputs": [
    {
     "data": {
      "text/plain": [
       "1.0"
      ]
     },
     "execution_count": 203,
     "metadata": {},
     "output_type": "execute_result"
    }
   ],
   "source": [
    "\n",
    "# Creating a metric object \n",
    "m = Precision()\n",
    "\n",
    "# Calculating the recall value \n",
    "m.update_state(y_true, y_hat)\n",
    "\n",
    "# Return Recall Result\n",
    "m.result().numpy()"
   ]
  },
  {
   "cell_type": "code",
   "execution_count": 4,
   "id": "890ced42-e8c4-426e-8961-fa88368513b7",
   "metadata": {
    "tags": []
   },
   "outputs": [
    {
     "ename": "NameError",
     "evalue": "name 'Recall' is not defined",
     "output_type": "error",
     "traceback": [
      "\u001b[1;31m---------------------------------------------------------------------------\u001b[0m",
      "\u001b[1;31mNameError\u001b[0m                                 Traceback (most recent call last)",
      "Cell \u001b[1;32mIn[4], line 1\u001b[0m\n\u001b[1;32m----> 1\u001b[0m r \u001b[38;5;241m=\u001b[39m \u001b[43mRecall\u001b[49m()\n\u001b[0;32m      2\u001b[0m p \u001b[38;5;241m=\u001b[39m Precision()\n\u001b[0;32m      4\u001b[0m \u001b[38;5;28;01mfor\u001b[39;00m test_input, test_val, y_true \u001b[38;5;129;01min\u001b[39;00m test_data\u001b[38;5;241m.\u001b[39mas_numpy_iterator():\n",
      "\u001b[1;31mNameError\u001b[0m: name 'Recall' is not defined"
     ]
    }
   ],
   "source": [
    "r = Recall()\n",
    "p = Precision()\n",
    "\n",
    "for test_input, test_val, y_true in test_data.as_numpy_iterator():\n",
    "    yhat = siamese_model.predict([test_input, test_val])\n",
    "    r.update_state(y_true, yhat)\n",
    "    p.update_state(y_true,yhat) \n",
    "\n",
    "print(r.result().numpy(), p.result().numpy())"
   ]
  },
  {
   "cell_type": "code",
   "execution_count": 2,
   "id": "f75cc436-b87d-4c3d-98ca-af6e2d02d5fc",
   "metadata": {
    "tags": []
   },
   "outputs": [
    {
     "ename": "NameError",
     "evalue": "name 'plt' is not defined",
     "output_type": "error",
     "traceback": [
      "\u001b[1;31m---------------------------------------------------------------------------\u001b[0m",
      "\u001b[1;31mNameError\u001b[0m                                 Traceback (most recent call last)",
      "Cell \u001b[1;32mIn[2], line 2\u001b[0m\n\u001b[0;32m      1\u001b[0m \u001b[38;5;66;03m# Set plot size \u001b[39;00m\n\u001b[1;32m----> 2\u001b[0m \u001b[43mplt\u001b[49m\u001b[38;5;241m.\u001b[39mfigure(figsize\u001b[38;5;241m=\u001b[39m(\u001b[38;5;241m10\u001b[39m,\u001b[38;5;241m8\u001b[39m))\n\u001b[0;32m      4\u001b[0m \u001b[38;5;66;03m# Set first subplot\u001b[39;00m\n\u001b[0;32m      5\u001b[0m plt\u001b[38;5;241m.\u001b[39msubplot(\u001b[38;5;241m1\u001b[39m,\u001b[38;5;241m2\u001b[39m,\u001b[38;5;241m1\u001b[39m)\n",
      "\u001b[1;31mNameError\u001b[0m: name 'plt' is not defined"
     ]
    }
   ],
   "source": [
    "# Set plot size \n",
    "plt.figure(figsize=(10,8))\n",
    "\n",
    "# Set first subplot\n",
    "plt.subplot(1,2,1)\n",
    "plt.imshow(test_input[0])\n",
    "\n",
    "# Set second subplot\n",
    "plt.subplot(1,2,2)\n",
    "plt.imshow(test_val[0])\n",
    "\n",
    "# Renders cleanly\n",
    "plt.show()"
   ]
  },
  {
   "cell_type": "code",
   "execution_count": 3,
   "id": "293b0d53-a5c6-4b53-8960-f508ed94e51f",
   "metadata": {
    "tags": []
   },
   "outputs": [
    {
     "ename": "NameError",
     "evalue": "name 'siamese_model' is not defined",
     "output_type": "error",
     "traceback": [
      "\u001b[1;31m---------------------------------------------------------------------------\u001b[0m",
      "\u001b[1;31mNameError\u001b[0m                                 Traceback (most recent call last)",
      "Cell \u001b[1;32mIn[3], line 2\u001b[0m\n\u001b[0;32m      1\u001b[0m \u001b[38;5;66;03m# Save weights\u001b[39;00m\n\u001b[1;32m----> 2\u001b[0m \u001b[43msiamese_model\u001b[49m\u001b[38;5;241m.\u001b[39msave(\u001b[38;5;124m'\u001b[39m\u001b[38;5;124msiamesemodelv2.h5\u001b[39m\u001b[38;5;124m'\u001b[39m)\n",
      "\u001b[1;31mNameError\u001b[0m: name 'siamese_model' is not defined"
     ]
    }
   ],
   "source": [
    "# Save weights\n",
    "siamese_model.save('siamesemodelv2.h5')"
   ]
  },
  {
   "cell_type": "code",
   "execution_count": 207,
   "id": "fd0481e1-638a-4d8c-b434-e01e4e4ef749",
   "metadata": {
    "tags": []
   },
   "outputs": [
    {
     "data": {
      "text/plain": [
       "__main__.L1Dist"
      ]
     },
     "execution_count": 207,
     "metadata": {},
     "output_type": "execute_result"
    }
   ],
   "source": [
    "L1Dist"
   ]
  },
  {
   "cell_type": "code",
   "execution_count": 208,
   "id": "9854890f-d915-4830-b703-a641469019a0",
   "metadata": {
    "tags": []
   },
   "outputs": [
    {
     "name": "stdout",
     "output_type": "stream",
     "text": [
      "WARNING:tensorflow:No training configuration found in the save file, so the model was *not* compiled. Compile it manually.\n"
     ]
    }
   ],
   "source": [
    "# Reload model \n",
    "siamese_model = tf.keras.models.load_model('siamesemodelv2.h5', \n",
    "                                   custom_objects={'L1Dist':L1Dist, 'BinaryCrossentropy':tf.losses.BinaryCrossentropy})"
   ]
  },
  {
   "cell_type": "code",
   "execution_count": 209,
   "id": "120f5f91-bae5-44f0-98c8-f03c4451a657",
   "metadata": {
    "tags": []
   },
   "outputs": [
    {
     "name": "stdout",
     "output_type": "stream",
     "text": [
      "1/1 [==============================] - 0s 285ms/step\n"
     ]
    },
    {
     "data": {
      "text/plain": [
       "array([[9.96857584e-01],\n",
       "       [1.06652038e-08],\n",
       "       [1.00000000e+00],\n",
       "       [1.06183055e-10],\n",
       "       [1.52328772e-09],\n",
       "       [7.61633200e-05],\n",
       "       [9.99937654e-01],\n",
       "       [1.19596196e-04],\n",
       "       [9.95573461e-01],\n",
       "       [1.00000000e+00],\n",
       "       [3.04028930e-07],\n",
       "       [8.62986016e-10]], dtype=float32)"
      ]
     },
     "execution_count": 209,
     "metadata": {},
     "output_type": "execute_result"
    }
   ],
   "source": [
    "# Make predictions with reloaded model\n",
    "siamese_model.predict([test_input, test_val])"
   ]
  },
  {
   "cell_type": "code",
   "execution_count": 210,
   "id": "fc1d35f6-c531-4e0f-bdf8-4aaf29b4b2b7",
   "metadata": {
    "tags": []
   },
   "outputs": [
    {
     "name": "stdout",
     "output_type": "stream",
     "text": [
      "Model: \"SiameseNetwork\"\n",
      "__________________________________________________________________________________________________\n",
      " Layer (type)                Output Shape                 Param #   Connected to                  \n",
      "==================================================================================================\n",
      " input_img (InputLayer)      [(None, 100, 100, 3)]        0         []                            \n",
      "                                                                                                  \n",
      " validation_img (InputLayer  [(None, 100, 100, 3)]        0         []                            \n",
      " )                                                                                                \n",
      "                                                                                                  \n",
      " embedding (Functional)      (None, 4096)                 3896044   ['input_img[0][0]',           \n",
      "                                                          8          'validation_img[0][0]']      \n",
      "                                                                                                  \n",
      " l1_dist_6 (L1Dist)          (None, 4096)                 0         ['embedding[0][0]',           \n",
      "                                                                     'embedding[1][0]']           \n",
      "                                                                                                  \n",
      " dense_3 (Dense)             (None, 1)                    4097      ['l1_dist_6[0][0]']           \n",
      "                                                                                                  \n",
      "==================================================================================================\n",
      "Total params: 38964545 (148.64 MB)\n",
      "Trainable params: 38964545 (148.64 MB)\n",
      "Non-trainable params: 0 (0.00 Byte)\n",
      "__________________________________________________________________________________________________\n"
     ]
    }
   ],
   "source": [
    "# View model summary\n",
    "siamese_model.summary()"
   ]
  },
  {
   "cell_type": "code",
   "execution_count": 211,
   "id": "351261c7-8ff7-4a1d-8424-1e5ab8d8d465",
   "metadata": {
    "tags": []
   },
   "outputs": [
    {
     "ename": "SyntaxError",
     "evalue": "unexpected character after line continuation character (4081098762.py, line 1)",
     "output_type": "error",
     "traceback": [
      "\u001b[1;36m  Cell \u001b[1;32mIn[211], line 1\u001b[1;36m\u001b[0m\n\u001b[1;33m    application_data\\verification_images\u001b[0m\n\u001b[1;37m                     ^\u001b[0m\n\u001b[1;31mSyntaxError\u001b[0m\u001b[1;31m:\u001b[0m unexpected character after line continuation character\n"
     ]
    }
   ],
   "source": [
    "application_data\\verification_images\n"
   ]
  },
  {
   "cell_type": "code",
   "execution_count": null,
   "id": "aa268e97-dc51-4330-90dd-d8fbde8ecb72",
   "metadata": {
    "tags": []
   },
   "outputs": [],
   "source": [
    "os.listdir(os.path.join('application_data', 'verification_images'))"
   ]
  },
  {
   "cell_type": "code",
   "execution_count": 212,
   "id": "68a3c4f5-abef-4004-9b17-41e657439585",
   "metadata": {
    "tags": []
   },
   "outputs": [
    {
     "data": {
      "text/plain": [
       "'application_data\\\\input_image\\\\input_image.jpg'"
      ]
     },
     "execution_count": 212,
     "metadata": {},
     "output_type": "execute_result"
    }
   ],
   "source": [
    "os.path.join('application_data', 'input_image', 'input_image.jpg')"
   ]
  },
  {
   "cell_type": "code",
   "execution_count": 213,
   "id": "82a341cb-091c-4a1b-a64d-1aa8afc86884",
   "metadata": {
    "tags": []
   },
   "outputs": [],
   "source": [
    "for image in os.listdir(os.path.join('application_data', 'verification_images')):\n",
    "    validation_img = os.path.join('application_data', 'verification_images', image)\n",
    "    print(validation_img)"
   ]
  },
  {
   "cell_type": "code",
   "execution_count": 214,
   "id": "9da0b98a-a31e-4116-839e-3080c46b0972",
   "metadata": {
    "tags": []
   },
   "outputs": [],
   "source": [
    "def verify(model, detection_threshold, verification_threshold):\n",
    "    # Build results array\n",
    "    results = []\n",
    "    for image in os.listdir(os.path.join('application_data', 'verification_images')):\n",
    "        input_img = preprocess(os.path.join('application_data', 'input_image', 'input_image.jpg'))\n",
    "        validation_img = preprocess(os.path.join('application_data', 'verification_images', image))\n",
    "        \n",
    "        # Make Predictions \n",
    "        result = model.predict(list(np.expand_dims([input_img, validation_img], axis=1)))\n",
    "        results.append(result)\n",
    "    \n",
    "    # Detection Threshold: Metric above which a prediciton is considered positive \n",
    "    detection = np.sum(np.array(results) > detection_threshold)\n",
    "    \n",
    "    # Verification Threshold: Proportion of positive predictions / total positive samples \n",
    "    verification = detection / len(os.listdir(os.path.join('application_data', 'verification_images'))) \n",
    "    verified = verification > verification_threshold\n",
    "    \n",
    "    return results, verified"
   ]
  },
  {
   "cell_type": "code",
   "execution_count": 215,
   "id": "e96b6436-1ba0-4004-bdd8-b0b2c060453d",
   "metadata": {
    "tags": []
   },
   "outputs": [
    {
     "name": "stderr",
     "output_type": "stream",
     "text": [
      "C:\\Users\\GAURAV BANSAL\\AppData\\Local\\Temp\\ipykernel_20068\\139549914.py:16: RuntimeWarning: invalid value encountered in long_scalars\n",
      "  verification = detection / len(os.listdir(os.path.join('application_data', 'verification_images')))\n"
     ]
    },
    {
     "name": "stdout",
     "output_type": "stream",
     "text": [
      "False\n",
      "False\n",
      "False\n",
      "False\n",
      "False\n",
      "False\n",
      "False\n"
     ]
    }
   ],
   "source": [
    "cap = cv2.VideoCapture(0)\n",
    "while cap.isOpened():\n",
    "    ret, frame = cap.read()\n",
    "    frame = frame[120:120+250,200:200+250, :]\n",
    "    \n",
    "    cv2.imshow('Verification', frame)\n",
    "    \n",
    "    # Verification trigger\n",
    "    if cv2.waitKey(10) & 0xFF == ord('v'):\n",
    "        # Save input image to application_data/input_image folder \n",
    "#         hsv = cv2.cvtColor(frame, cv2.COLOR_BGR2HSV)\n",
    "#         h, s, v = cv2.split(hsv)\n",
    "\n",
    "#         lim = 255 - 10\n",
    "#         v[v > lim] = 255\n",
    "#         v[v <= lim] -= 10\n",
    "        \n",
    "#         final_hsv = cv2.merge((h, s, v))\n",
    "#         img = cv2.cvtColor(final_hsv, cv2.COLOR_HSV2BGR)\n",
    "\n",
    "        cv2.imwrite(os.path.join('application_data', 'input_image', 'input_image.jpg'), frame)\n",
    "        # Run verification\n",
    "        results, verified = verify(siamese_model, 0.5, 0.5)\n",
    "        print(verified)\n",
    "    \n",
    "    if cv2.waitKey(10) & 0xFF == ord('q'):\n",
    "        break\n",
    "cap.release()\n",
    "cv2.destroyAllWindows()"
   ]
  },
  {
   "cell_type": "code",
   "execution_count": 216,
   "id": "35e09dcd-f25b-4a08-bbf4-0fc0002bac32",
   "metadata": {
    "tags": []
   },
   "outputs": [
    {
     "data": {
      "text/plain": [
       "0"
      ]
     },
     "execution_count": 216,
     "metadata": {},
     "output_type": "execute_result"
    }
   ],
   "source": [
    "np.sum(np.squeeze(results) > 0.9)"
   ]
  },
  {
   "cell_type": "code",
   "execution_count": 196,
   "id": "5e98dc5c-b5d1-4e89-95ce-c74a992eb6b0",
   "metadata": {
    "tags": []
   },
   "outputs": [
    {
     "data": {
      "text/plain": [
       "[]"
      ]
     },
     "execution_count": 196,
     "metadata": {},
     "output_type": "execute_result"
    }
   ],
   "source": [
    "results"
   ]
  },
  {
   "cell_type": "code",
   "execution_count": null,
   "id": "8adf5554-cbc3-4b96-8938-97164dbc2274",
   "metadata": {},
   "outputs": [],
   "source": []
  }
 ],
 "metadata": {
  "kernelspec": {
   "display_name": "Python 3 (ipykernel)",
   "language": "python",
   "name": "python3"
  },
  "language_info": {
   "codemirror_mode": {
    "name": "ipython",
    "version": 3
   },
   "file_extension": ".py",
   "mimetype": "text/x-python",
   "name": "python",
   "nbconvert_exporter": "python",
   "pygments_lexer": "ipython3",
   "version": "3.11.4"
  }
 },
 "nbformat": 4,
 "nbformat_minor": 5
}
